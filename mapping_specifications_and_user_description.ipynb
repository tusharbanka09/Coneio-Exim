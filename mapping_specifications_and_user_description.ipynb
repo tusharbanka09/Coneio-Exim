{
 "cells": [
  {
   "cell_type": "code",
   "execution_count": 1,
   "metadata": {
    "ExecuteTime": {
     "end_time": "2021-04-23T06:43:24.930915Z",
     "start_time": "2021-04-23T06:42:36.153181Z"
    }
   },
   "outputs": [],
   "source": [
    "from sklearn.metrics.pairwise import cosine_similarity\n",
    "from sklearn.metrics.pairwise import euclidean_distances\n",
    "import numpy as np\n",
    "from sentence_transformers import SentenceTransformer\n",
    "\n",
    "sbert_model = SentenceTransformer('bert-base-nli-mean-tokens')\n",
    "\n",
    "from nltk import RegexpParser\n",
    "from nltk import pos_tag\n",
    "import re\n",
    "from fuzzywuzzy import process, fuzz\n",
    "\n",
    "from keybert import KeyBERT\n",
    "\n",
    "# doc = \"WHOLE BLACK PEPPER LASTA (IMPORT TO EOU FOR RE- EXPORT)\"\n",
    "model = KeyBERT('distilbert-base-nli-mean-tokens')\n",
    "# keywords = model.extract_keywords(doc)\n",
    "\n",
    "\n",
    "\n",
    "def most_similar(doc_id,similarity_matrix,matrix,doc):\n",
    "    #print (f'Document: {doc[doc_id]}')\n",
    "    #print ('\\n')\n",
    "    #print ('Similar Documents:')\n",
    "    if matrix=='Cosine Similarity':\n",
    "        similar_ix=np.argsort(similarity_matrix[doc_id])[::-1]\n",
    "    elif matrix=='Euclidean Distance':\n",
    "        similar_ix=np.argsort(similarity_matrix[doc_id])\n",
    "    for ix in similar_ix:\n",
    "        if ix==doc_id:\n",
    "            continue\n",
    "        #print('\\n')\n",
    "        #print (f'Document: {doc[ix]}')\n",
    "        #print (f'{matrix} : {similarity_matrix[doc_id][ix]}')\n",
    "    #print (f'{similarity_matrix[doc_id][-1]}')\n",
    "    \n",
    "    try:\n",
    "        print(similarity_matrix[doc_id])\n",
    "        return sorted(similarity_matrix[doc_id], reverse = True)[1]\n",
    "    except:\n",
    "        return 0\n",
    "\n",
    "\n",
    "def key_ex(x):\n",
    "    chunks = []\n",
    "    for i in range(1,5):\n",
    "        ls1 = model.extract_keywords(x, keyphrase_ngram_range=(1, i))\n",
    "\n",
    "        for j in ls1:\n",
    "            chunks.append(j)\n",
    "    return chunks\n",
    "\n",
    "def sel_top(val):\n",
    "    final_val = []\n",
    "    num = 0\n",
    "    for value in val:\n",
    "        print(value)\n",
    "        if num > 5:\n",
    "            break\n",
    "\n",
    "        if value[1] > 0.3:\n",
    "            final_val.append(value[0])\n",
    "            num = num+1\n",
    "    return final_val\n",
    "\n",
    "# query = 'any MOTOR FOR INDUSTRIAL USE'\n",
    "\n",
    "def semantic_check(query,df):\n",
    "    result = []\n",
    "    for x in df['Description'].values:\n",
    "    #     doc = df['Description'].values\n",
    "    #     doc.append(query)\n",
    "#         print(x)\n",
    "    #     chunks = []\n",
    "\n",
    "        chunks = key_ex(x)\n",
    "        chunks = set(chunks)\n",
    "\n",
    "        q_c = set(key_ex(query))\n",
    "\n",
    "        val = sorted(chunks, key = lambda x : x[1], reverse = True )\n",
    "#         print(val)\n",
    "\n",
    "\n",
    "\n",
    "        print(\"\\n\\nFrom Specification\")\n",
    "        final_val = sel_top(val)\n",
    "        print(\"\\n\\nFrom User Description\")\n",
    "        final_val_query = sel_top(q_c) \n",
    "        max_sim = []\n",
    "#         print(final_val_query)\n",
    "        for q in final_val_query :\n",
    "\n",
    "            final_val.append(q)\n",
    "        #     print(doc)\n",
    "            print(\"\\n\\n Checking distance of {} with the rest {} one by one\" .format(final_val[-1], final_val[:]))\n",
    "#             print(final_val)\n",
    "            document_embeddings = sbert_model.encode(final_val)\n",
    "\n",
    "            pairwise_similarities=cosine_similarity(document_embeddings)\n",
    "            pairwise_differences=euclidean_distances(document_embeddings)\n",
    "            max_sim.append(most_similar(-1,pairwise_similarities,'Cosine Similarity',final_val))\n",
    "    #         most_similar(-1,pairwise_differences,'Euclidean Distance', final_val)\n",
    "\n",
    "            final_val = final_val[:-1]\n",
    "        max_val = max(max_sim)\n",
    "        print(\"\\n\\n max_sim \",max_val)\n",
    "        if max_val >= 0.85:\n",
    "             result.append('yes')\n",
    "        else:\n",
    "            result.append(\"no\")\n",
    "        print(\"\\n\\n\")\n",
    "    return result\n",
    "\n",
    "\n",
    "\n",
    "def extract_quants(data):\n",
    "    data = data.replace('\\n', ' ')\n",
    "    data = data.replace(';', ' ')\n",
    "    data = data.replace(',', ' ')\n",
    "    data = data.replace('’', ' ')\n",
    "    data = data.replace('‘', ' ')\n",
    "    data = data.replace('  ',\" \")\n",
    "    data = data.replace('   ',\" \")\n",
    "    data = data.replace('#',\" \")\n",
    "    data = re.sub(r'\\s+',\" \",data)\n",
    "    data = re.sub(r'\\s+$',\"\",data)\n",
    "    data = re.sub(r'(\\(|\\[|\\{).*(\\)|\\]|\\})',\"\",data)\n",
    "    return data\n",
    "\n",
    "def reduce_data(df1):\n",
    "    db=pd.DataFrame(columns=[\"hsn\",\"description\"])\n",
    "    for i in range(len(df1)):\n",
    "        l= df1.iloc[i,1]\n",
    "        l= re.sub(\"(\\(|\\[|\\{).*$\",\"\",l)\n",
    "        l= re.sub(\"\\d{2,}\",\"\",l)\n",
    "        flag=1\n",
    "        for j in range(len(db)):\n",
    "            k = db.iloc[j,1]\n",
    "            if(fuzz.token_set_ratio(l.lower(),k.lower())>90):\n",
    "                flag=0\n",
    "        if flag==1:\n",
    "            db=db.append(pd.DataFrame({\"hsn\":df1.iloc[i,0],\"description\":l},index=[0]), ignore_index=True)\n",
    "    return db\n",
    "\n",
    "def key_from_description(df):\n",
    "    fin=pd.DataFrame(columns=[\"hsn\",\"description\"])\n",
    "    keys = []\n",
    "    for i in range(len(df)):\n",
    "        try:\n",
    "            unit= extract_quants(df.iloc[i]['description'])\n",
    "        except:\n",
    "            unit= extract_quants(df.iloc[i]['Description'])\n",
    "        pattern1 = \"\"\"\n",
    "        P1: {<NN|NNP|NNS|DT|CC|VBZ|JJ|IN|VBN>?<NN|NNP|NNS>}\n",
    "        \"\"\"\n",
    "        PChunker = RegexpParser(pattern1)\n",
    "        res = \"\"\n",
    "        try:\n",
    "            result=PChunker.parse(pos_tag(unit.split()))\n",
    "\n",
    "            for node in result:\n",
    "                if node.label()==\"P1\":\n",
    "                    tmp=\"\"\n",
    "                    for leaf in node.leaves():\n",
    "                        tmp+=leaf[0]+\" \"\n",
    "                    print(tmp)\n",
    "                    res= res + tmp + \", \"\n",
    "\n",
    "\n",
    "    #             else:\n",
    "    #                 fin=fin.append(pd.DataFrame({\"hsn\":df.iloc[i,1],\"description\":\"NULL\"},index=[0]), ignore_index=True)\n",
    "        except:\n",
    "            pass\n",
    "    #         res.append(\"NULL\")\n",
    "        print(\"Res : \", res)\n",
    "    #         fin=fin.append(pd.DataFrame({\"hsn\":df.iloc[i,1],\"description\":\"NULL\"},index=[0]), ignore_index=True)\n",
    "        keys.append(res)\n",
    "    try:\n",
    "        fin['hsn'] = df['hsn'].values\n",
    "    except:\n",
    "        fin['hsn'] = df['HSN_Code'].values\n",
    "\n",
    "    fin['description'] = keys\n",
    "    #     fin=fin.append(pd.DataFrame({\"hsn\":df.iloc[i,1],\"description\":res},index=[0]), ignore_index=True)\n",
    "    #         \n",
    "            #fin=fin.append(pd.DataFrame({\"hsn\":df.iloc[i,0],\"description\":\"\"},index=[0]), ignore_index=True)\n",
    "    # fin= reduce_data(fin)\n",
    "    print(fin)\n",
    "    return fin"
   ]
  },
  {
   "cell_type": "code",
   "execution_count": 2,
   "metadata": {
    "ExecuteTime": {
     "end_time": "2021-04-23T06:43:24.942848Z",
     "start_time": "2021-04-23T06:43:24.934704Z"
    }
   },
   "outputs": [],
   "source": [
    "import pandas as pd"
   ]
  },
  {
   "cell_type": "code",
   "execution_count": 3,
   "metadata": {
    "ExecuteTime": {
     "end_time": "2021-04-23T06:43:25.187510Z",
     "start_time": "2021-04-23T06:43:24.944974Z"
    }
   },
   "outputs": [],
   "source": [
    "df = pd.read_excel(\"Test file-1.xlsx\")\n",
    "query = \"AC Motor for industrial use\"\n",
    "#result = semantic_check(query, df)"
   ]
  },
  {
   "cell_type": "code",
   "execution_count": 4,
   "metadata": {
    "ExecuteTime": {
     "end_time": "2021-04-23T06:43:25.263217Z",
     "start_time": "2021-04-23T06:43:25.190504Z"
    }
   },
   "outputs": [
    {
     "data": {
      "text/html": [
       "<div>\n",
       "<style scoped>\n",
       "    .dataframe tbody tr th:only-of-type {\n",
       "        vertical-align: middle;\n",
       "    }\n",
       "\n",
       "    .dataframe tbody tr th {\n",
       "        vertical-align: top;\n",
       "    }\n",
       "\n",
       "    .dataframe thead th {\n",
       "        text-align: right;\n",
       "    }\n",
       "</style>\n",
       "<table border=\"1\" class=\"dataframe\">\n",
       "  <thead>\n",
       "    <tr style=\"text-align: right;\">\n",
       "      <th></th>\n",
       "      <th>S.No</th>\n",
       "      <th>HSN_Code</th>\n",
       "      <th>Description</th>\n",
       "      <th>Unnamed: 3</th>\n",
       "    </tr>\n",
       "  </thead>\n",
       "  <tbody>\n",
       "    <tr>\n",
       "      <th>0</th>\n",
       "      <td>1</td>\n",
       "      <td>8501.10.20</td>\n",
       "      <td>AC motor</td>\n",
       "      <td>Electric motors and generators (excluding gene...</td>\n",
       "    </tr>\n",
       "    <tr>\n",
       "      <th>1</th>\n",
       "      <td>4</td>\n",
       "      <td>8501.10.99</td>\n",
       "      <td>DC motors</td>\n",
       "      <td>Electric motors and generators (excluding gene...</td>\n",
       "    </tr>\n",
       "    <tr>\n",
       "      <th>2</th>\n",
       "      <td>5</td>\n",
       "      <td>8501.10.10</td>\n",
       "      <td>Fan motor fitted with revolving mechanism</td>\n",
       "      <td>Electric motors and generators (excluding gene...</td>\n",
       "    </tr>\n",
       "    <tr>\n",
       "      <th>3</th>\n",
       "      <td>6</td>\n",
       "      <td>8501.10.11</td>\n",
       "      <td>Micro motor</td>\n",
       "      <td>Electric motors and generators (excluding gene...</td>\n",
       "    </tr>\n",
       "    <tr>\n",
       "      <th>4</th>\n",
       "      <td>7</td>\n",
       "      <td>8501.10.00</td>\n",
       "      <td>Motors  of  an  output  not  exceeding  37.5  ...</td>\n",
       "      <td>Electric motors and generators (excluding gene...</td>\n",
       "    </tr>\n",
       "    <tr>\n",
       "      <th>5</th>\n",
       "      <td>8</td>\n",
       "      <td>8501.10.00</td>\n",
       "      <td>Motors  of an output  not exceeding  37.5  W</td>\n",
       "      <td>Electric motors and generators (excluding gene...</td>\n",
       "    </tr>\n",
       "    <tr>\n",
       "      <th>6</th>\n",
       "      <td>9</td>\n",
       "      <td>8501.10.90.00</td>\n",
       "      <td>Motors For Other Than Vehicles Of An Output =&lt;...</td>\n",
       "      <td>Electric motors and generators (excluding gene...</td>\n",
       "    </tr>\n",
       "    <tr>\n",
       "      <th>7</th>\n",
       "      <td>10</td>\n",
       "      <td>8501.10.10.00</td>\n",
       "      <td>Motors For Vehicles Of An Output =&lt; 37.5W</td>\n",
       "      <td>Electric motors and generators (excluding gene...</td>\n",
       "    </tr>\n",
       "    <tr>\n",
       "      <th>8</th>\n",
       "      <td>11</td>\n",
       "      <td>8501.10.00</td>\n",
       "      <td>Motors of an output not</td>\n",
       "      <td>Electric motors and generators (excluding gene...</td>\n",
       "    </tr>\n",
       "    <tr>\n",
       "      <th>9</th>\n",
       "      <td>12</td>\n",
       "      <td>8501.10.00</td>\n",
       "      <td>Motors of an output not exceeding  37.5 W</td>\n",
       "      <td>Electric motors and generators (excluding gene...</td>\n",
       "    </tr>\n",
       "    <tr>\n",
       "      <th>10</th>\n",
       "      <td>18</td>\n",
       "      <td>8501.10.21</td>\n",
       "      <td>Of a kind used for the goods of heading 84.15,...</td>\n",
       "      <td>Electric motors and generators (excluding gene...</td>\n",
       "    </tr>\n",
       "    <tr>\n",
       "      <th>11</th>\n",
       "      <td>28</td>\n",
       "      <td>8501.10.22</td>\n",
       "      <td>Other, of an output not exceeding 5 W</td>\n",
       "      <td>Electric motors and generators (excluding gene...</td>\n",
       "    </tr>\n",
       "    <tr>\n",
       "      <th>12</th>\n",
       "      <td>32</td>\n",
       "      <td>8501.10.92</td>\n",
       "      <td>Spindle motors</td>\n",
       "      <td>Electric motors and generators (excluding gene...</td>\n",
       "    </tr>\n",
       "    <tr>\n",
       "      <th>13</th>\n",
       "      <td>33</td>\n",
       "      <td>8501.10.12</td>\n",
       "      <td>Stepper motor</td>\n",
       "      <td>Electric motors and generators (excluding gene...</td>\n",
       "    </tr>\n",
       "    <tr>\n",
       "      <th>14</th>\n",
       "      <td>36</td>\n",
       "      <td>8501.10.10</td>\n",
       "      <td>Synchronous motors of an output not exceeding</td>\n",
       "      <td>Electric motors and generators (excluding gene...</td>\n",
       "    </tr>\n",
       "    <tr>\n",
       "      <th>15</th>\n",
       "      <td>37</td>\n",
       "      <td>8501.10.91</td>\n",
       "      <td>Universal AC/DC motors</td>\n",
       "      <td>Electric motors and generators (excluding gene...</td>\n",
       "    </tr>\n",
       "    <tr>\n",
       "      <th>16</th>\n",
       "      <td>38</td>\n",
       "      <td>8501.10.13</td>\n",
       "      <td>Wiper motor</td>\n",
       "      <td>Electric motors and generators (excluding gene...</td>\n",
       "    </tr>\n",
       "  </tbody>\n",
       "</table>\n",
       "</div>"
      ],
      "text/plain": [
       "    S.No       HSN_Code                                        Description  \\\n",
       "0      1     8501.10.20                                           AC motor   \n",
       "1      4     8501.10.99                                          DC motors   \n",
       "2      5     8501.10.10          Fan motor fitted with revolving mechanism   \n",
       "3      6     8501.10.11                                        Micro motor   \n",
       "4      7     8501.10.00  Motors  of  an  output  not  exceeding  37.5  ...   \n",
       "5      8     8501.10.00      Motors  of an output  not exceeding  37.5  W    \n",
       "6      9  8501.10.90.00  Motors For Other Than Vehicles Of An Output =<...   \n",
       "7     10  8501.10.10.00          Motors For Vehicles Of An Output =< 37.5W   \n",
       "8     11     8501.10.00                            Motors of an output not   \n",
       "9     12     8501.10.00        Motors of an output not exceeding  37.5 W     \n",
       "10    18     8501.10.21  Of a kind used for the goods of heading 84.15,...   \n",
       "11    28     8501.10.22              Other, of an output not exceeding 5 W   \n",
       "12    32     8501.10.92                                     Spindle motors   \n",
       "13    33     8501.10.12                                      Stepper motor   \n",
       "14    36     8501.10.10      Synchronous motors of an output not exceeding   \n",
       "15    37     8501.10.91                             Universal AC/DC motors   \n",
       "16    38     8501.10.13                                        Wiper motor   \n",
       "\n",
       "                                           Unnamed: 3  \n",
       "0   Electric motors and generators (excluding gene...  \n",
       "1   Electric motors and generators (excluding gene...  \n",
       "2   Electric motors and generators (excluding gene...  \n",
       "3   Electric motors and generators (excluding gene...  \n",
       "4   Electric motors and generators (excluding gene...  \n",
       "5   Electric motors and generators (excluding gene...  \n",
       "6   Electric motors and generators (excluding gene...  \n",
       "7   Electric motors and generators (excluding gene...  \n",
       "8   Electric motors and generators (excluding gene...  \n",
       "9   Electric motors and generators (excluding gene...  \n",
       "10  Electric motors and generators (excluding gene...  \n",
       "11  Electric motors and generators (excluding gene...  \n",
       "12  Electric motors and generators (excluding gene...  \n",
       "13  Electric motors and generators (excluding gene...  \n",
       "14  Electric motors and generators (excluding gene...  \n",
       "15  Electric motors and generators (excluding gene...  \n",
       "16  Electric motors and generators (excluding gene...  "
      ]
     },
     "execution_count": 4,
     "metadata": {},
     "output_type": "execute_result"
    }
   ],
   "source": [
    "df.head(50)"
   ]
  },
  {
   "cell_type": "code",
   "execution_count": 5,
   "metadata": {
    "ExecuteTime": {
     "end_time": "2021-04-23T06:43:25.282949Z",
     "start_time": "2021-04-23T06:43:25.269936Z"
    }
   },
   "outputs": [],
   "source": [
    "# Works after preprocessing the text like bracket removal and all\n",
    "\n",
    "def keep_unique(mystring):\n",
    "\n",
    "    words = mystring.split()\n",
    "\n",
    "    answer = [each_pair[0] for each_pair in zip(words, words[1:]) if each_pair[0] != each_pair[1]] + [words[-1]]\n",
    "\n",
    "    print(' '.join(answer))"
   ]
  },
  {
   "cell_type": "code",
   "execution_count": 6,
   "metadata": {
    "ExecuteTime": {
     "end_time": "2021-04-23T06:43:25.302796Z",
     "start_time": "2021-04-23T06:43:25.290976Z"
    }
   },
   "outputs": [],
   "source": [
    "import nltk\n",
    "w_tokenizer = nltk.tokenize.WhitespaceTokenizer()\n",
    "from nltk.stem import WordNetLemmatizer"
   ]
  },
  {
   "cell_type": "code",
   "execution_count": 7,
   "metadata": {
    "ExecuteTime": {
     "end_time": "2021-04-23T06:43:25.318947Z",
     "start_time": "2021-04-23T06:43:25.307249Z"
    }
   },
   "outputs": [],
   "source": [
    "lemmatizer = WordNetLemmatizer()"
   ]
  },
  {
   "cell_type": "code",
   "execution_count": 8,
   "metadata": {
    "ExecuteTime": {
     "end_time": "2021-04-23T06:43:25.332333Z",
     "start_time": "2021-04-23T06:43:25.323791Z"
    }
   },
   "outputs": [],
   "source": [
    "from nltk.stem.snowball import SnowballStemmer\n",
    "stemmer = SnowballStemmer(\"english\")"
   ]
  },
  {
   "cell_type": "code",
   "execution_count": 9,
   "metadata": {
    "ExecuteTime": {
     "end_time": "2021-04-23T06:43:25.344367Z",
     "start_time": "2021-04-23T06:43:25.337490Z"
    }
   },
   "outputs": [],
   "source": [
    "def stem_lemmatize_text(text):\n",
    "    text = text.lower()\n",
    "    l = [stemmer.stem(w) for w in w_tokenizer.tokenize(text)]\n",
    "    ls =  [lemmatizer.lemmatize(w) for w in l]\n",
    "    listToStr = ' '.join([str(elem) for elem in ls])\n",
    "    return listToStr"
   ]
  },
  {
   "cell_type": "code",
   "execution_count": 10,
   "metadata": {
    "ExecuteTime": {
     "end_time": "2021-04-23T06:43:28.637644Z",
     "start_time": "2021-04-23T06:43:25.348801Z"
    }
   },
   "outputs": [],
   "source": [
    "df['Des_lemmatized'] = df.Description.apply(stem_lemmatize_text)"
   ]
  },
  {
   "cell_type": "code",
   "execution_count": 11,
   "metadata": {
    "ExecuteTime": {
     "end_time": "2021-04-23T06:43:28.659488Z",
     "start_time": "2021-04-23T06:43:28.641467Z"
    }
   },
   "outputs": [
    {
     "data": {
      "text/plain": [
       "0                                ac motor\n",
       "1                                dc motor\n",
       "2        fan motor fit with revolv mechan\n",
       "3                             micro motor\n",
       "4    motor of an output not exceed 37.5 w\n",
       "Name: Des_lemmatized, dtype: object"
      ]
     },
     "execution_count": 11,
     "metadata": {},
     "output_type": "execute_result"
    }
   ],
   "source": [
    "df['Des_lemmatized'].head()"
   ]
  },
  {
   "cell_type": "code",
   "execution_count": 12,
   "metadata": {
    "ExecuteTime": {
     "end_time": "2021-04-23T06:43:28.684887Z",
     "start_time": "2021-04-23T06:43:28.668510Z"
    }
   },
   "outputs": [],
   "source": [
    "res  = []"
   ]
  },
  {
   "cell_type": "code",
   "execution_count": 33,
   "metadata": {
    "ExecuteTime": {
     "end_time": "2021-04-23T07:11:57.355540Z",
     "start_time": "2021-04-23T07:11:57.345796Z"
    }
   },
   "outputs": [],
   "source": [
    "def jaccard_sim(query):\n",
    "    res = []\n",
    "    for i in df['Des_lemmatized']:\n",
    "        q = stem_lemmatize_text(query)\n",
    "        li = i.split()\n",
    "        lq = q.split()\n",
    "        s1 = set(li)\n",
    "        s2 = set(lq)\n",
    "        res.append(float(len(s1.intersection(s2)) / 5))\n",
    "    return res"
   ]
  },
  {
   "cell_type": "code",
   "execution_count": 34,
   "metadata": {
    "ExecuteTime": {
     "end_time": "2021-04-23T07:11:58.243240Z",
     "start_time": "2021-04-23T07:11:58.234349Z"
    }
   },
   "outputs": [
    {
     "data": {
      "text/plain": [
       "[0.4,\n",
       " 0.2,\n",
       " 0.6,\n",
       " 0.2,\n",
       " 0.2,\n",
       " 0.2,\n",
       " 0.2,\n",
       " 0.2,\n",
       " 0.2,\n",
       " 0.2,\n",
       " 0.0,\n",
       " 0.0,\n",
       " 0.2,\n",
       " 0.2,\n",
       " 0.2,\n",
       " 0.2,\n",
       " 0.2]"
      ]
     },
     "execution_count": 34,
     "metadata": {},
     "output_type": "execute_result"
    }
   ],
   "source": [
    "jaccard_sim(\"ac fan motor revolv\")"
   ]
  },
  {
   "cell_type": "code",
   "execution_count": 35,
   "metadata": {
    "ExecuteTime": {
     "end_time": "2021-04-23T07:12:04.055345Z",
     "start_time": "2021-04-23T07:12:04.046739Z"
    }
   },
   "outputs": [],
   "source": [
    "from sklearn.feature_extraction.text import TfidfVectorizer"
   ]
  },
  {
   "cell_type": "code",
   "execution_count": 36,
   "metadata": {
    "ExecuteTime": {
     "end_time": "2021-04-23T07:12:04.411799Z",
     "start_time": "2021-04-23T07:12:04.301306Z"
    }
   },
   "outputs": [],
   "source": [
    "import texthero as hero\n",
    "df['tfidf'] = hero.do_tfidf(df['Des_lemmatized'])"
   ]
  },
  {
   "cell_type": "code",
   "execution_count": 37,
   "metadata": {
    "ExecuteTime": {
     "end_time": "2021-04-23T07:12:04.591283Z",
     "start_time": "2021-04-23T07:12:04.580438Z"
    }
   },
   "outputs": [
    {
     "data": {
      "text/plain": [
       "[0.0,\n",
       " 0.0,\n",
       " 0.0,\n",
       " 0.0,\n",
       " 0.0,\n",
       " 0.0,\n",
       " 0.0,\n",
       " 0.0,\n",
       " 0.0,\n",
       " 0.9283528855987047,\n",
       " 0.0,\n",
       " 0.0,\n",
       " 0.0,\n",
       " 0.0,\n",
       " 0.0,\n",
       " 0.0,\n",
       " 0.0,\n",
       " 0.0,\n",
       " 0.0,\n",
       " 0.0,\n",
       " 0.0,\n",
       " 0.37170004008684004,\n",
       " 0.0,\n",
       " 0.0,\n",
       " 0.0,\n",
       " 0.0,\n",
       " 0.0,\n",
       " 0.0,\n",
       " 0.0,\n",
       " 0.0,\n",
       " 0.0,\n",
       " 0.0,\n",
       " 0.0,\n",
       " 0.0,\n",
       " 0.0,\n",
       " 0.0,\n",
       " 0.0,\n",
       " 0.0]"
      ]
     },
     "execution_count": 37,
     "metadata": {},
     "output_type": "execute_result"
    }
   ],
   "source": [
    "df['tfidf'][0]"
   ]
  },
  {
   "cell_type": "markdown",
   "metadata": {},
   "source": [
    "# idf lookup list"
   ]
  },
  {
   "cell_type": "code",
   "execution_count": 38,
   "metadata": {
    "ExecuteTime": {
     "end_time": "2021-04-23T07:12:05.219220Z",
     "start_time": "2021-04-23T07:12:05.207829Z"
    }
   },
   "outputs": [],
   "source": [
    "tf = TfidfVectorizer(use_idf=True)\n",
    "tf.fit_transform(df['Des_lemmatized'])\n",
    "\n",
    "idf = tf.idf_ "
   ]
  },
  {
   "cell_type": "code",
   "execution_count": 39,
   "metadata": {
    "ExecuteTime": {
     "end_time": "2021-04-23T07:12:05.536172Z",
     "start_time": "2021-04-23T07:12:05.527736Z"
    }
   },
   "outputs": [
    {
     "name": "stdout",
     "output_type": "stream",
     "text": [
      "[3.19722458 3.19722458 3.19722458 3.19722458 2.09861229 3.19722458\n",
      " 2.79175947 3.19722458 3.19722458 2.79175947 1.69314718 2.79175947\n",
      " 2.09861229 3.19722458 3.19722458 2.5040774  3.19722458 3.19722458\n",
      " 3.19722458 3.19722458 3.19722458 1.11778304 1.94446161 1.58778666\n",
      " 3.19722458 2.79175947 1.69314718 3.19722458 3.19722458 3.19722458\n",
      " 3.19722458 3.19722458 3.19722458 3.19722458 3.19722458 2.79175947\n",
      " 3.19722458 3.19722458]\n"
     ]
    }
   ],
   "source": [
    "print(idf)"
   ]
  },
  {
   "cell_type": "code",
   "execution_count": 40,
   "metadata": {
    "ExecuteTime": {
     "end_time": "2021-04-23T07:12:05.922494Z",
     "start_time": "2021-04-23T07:12:05.911199Z"
    }
   },
   "outputs": [
    {
     "data": {
      "text/plain": [
       "1.1177830356563834"
      ]
     },
     "execution_count": 40,
     "metadata": {},
     "output_type": "execute_result"
    }
   ],
   "source": [
    "tf.idf_[tf.vocabulary_[\"motor\"]]"
   ]
  },
  {
   "cell_type": "markdown",
   "metadata": {},
   "source": [
    "# Create query idf Vector"
   ]
  },
  {
   "cell_type": "code",
   "execution_count": 41,
   "metadata": {
    "ExecuteTime": {
     "end_time": "2021-04-23T07:12:06.976016Z",
     "start_time": "2021-04-23T07:12:06.965669Z"
    }
   },
   "outputs": [],
   "source": [
    "def create_query_idf_vector(query):\n",
    "    idf_v = []\n",
    "    l = query.split()\n",
    "    for q in l:\n",
    "        idf_v.append(tf.idf_[tf.vocabulary_[q]])\n",
    "    return idf_v"
   ]
  },
  {
   "cell_type": "code",
   "execution_count": 53,
   "metadata": {
    "ExecuteTime": {
     "end_time": "2021-04-23T07:12:35.410415Z",
     "start_time": "2021-04-23T07:12:35.407133Z"
    }
   },
   "outputs": [],
   "source": [
    "q = create_query_idf_vector(\"fan motor\")"
   ]
  },
  {
   "cell_type": "code",
   "execution_count": 54,
   "metadata": {
    "ExecuteTime": {
     "end_time": "2021-04-23T07:12:35.735154Z",
     "start_time": "2021-04-23T07:12:35.730691Z"
    }
   },
   "outputs": [
    {
     "name": "stdout",
     "output_type": "stream",
     "text": [
      "[3.1972245773362196, 1.1177830356563834]\n"
     ]
    }
   ],
   "source": [
    "print(q)"
   ]
  },
  {
   "cell_type": "code",
   "execution_count": 55,
   "metadata": {
    "ExecuteTime": {
     "end_time": "2021-04-23T07:12:36.232589Z",
     "start_time": "2021-04-23T07:12:36.221510Z"
    }
   },
   "outputs": [],
   "source": [
    "js = jaccard_sim(\"fan motor\")"
   ]
  },
  {
   "cell_type": "code",
   "execution_count": 56,
   "metadata": {
    "ExecuteTime": {
     "end_time": "2021-04-23T07:12:36.668485Z",
     "start_time": "2021-04-23T07:12:36.648059Z"
    }
   },
   "outputs": [
    {
     "data": {
      "text/html": [
       "<div>\n",
       "<style scoped>\n",
       "    .dataframe tbody tr th:only-of-type {\n",
       "        vertical-align: middle;\n",
       "    }\n",
       "\n",
       "    .dataframe tbody tr th {\n",
       "        vertical-align: top;\n",
       "    }\n",
       "\n",
       "    .dataframe thead th {\n",
       "        text-align: right;\n",
       "    }\n",
       "</style>\n",
       "<table border=\"1\" class=\"dataframe\">\n",
       "  <thead>\n",
       "    <tr style=\"text-align: right;\">\n",
       "      <th></th>\n",
       "      <th>S.No</th>\n",
       "      <th>HSN_Code</th>\n",
       "      <th>Description</th>\n",
       "      <th>Unnamed: 3</th>\n",
       "      <th>Des_lemmatized</th>\n",
       "      <th>tfidf</th>\n",
       "    </tr>\n",
       "  </thead>\n",
       "  <tbody>\n",
       "    <tr>\n",
       "      <th>0</th>\n",
       "      <td>1</td>\n",
       "      <td>8501.10.20</td>\n",
       "      <td>AC motor</td>\n",
       "      <td>Electric motors and generators (excluding gene...</td>\n",
       "      <td>ac motor</td>\n",
       "      <td>[0.0, 0.0, 0.0, 0.0, 0.0, 0.0, 0.0, 0.0, 0.0, ...</td>\n",
       "    </tr>\n",
       "    <tr>\n",
       "      <th>1</th>\n",
       "      <td>4</td>\n",
       "      <td>8501.10.99</td>\n",
       "      <td>DC motors</td>\n",
       "      <td>Electric motors and generators (excluding gene...</td>\n",
       "      <td>dc motor</td>\n",
       "      <td>[0.0, 0.0, 0.0, 0.0, 0.0, 0.0, 0.0, 0.0, 0.0, ...</td>\n",
       "    </tr>\n",
       "    <tr>\n",
       "      <th>2</th>\n",
       "      <td>5</td>\n",
       "      <td>8501.10.10</td>\n",
       "      <td>Fan motor fitted with revolving mechanism</td>\n",
       "      <td>Electric motors and generators (excluding gene...</td>\n",
       "      <td>fan motor fit with revolv mechan</td>\n",
       "      <td>[0.0, 0.0, 0.0, 0.0, 0.0, 0.0, 0.0, 0.0, 0.0, ...</td>\n",
       "    </tr>\n",
       "    <tr>\n",
       "      <th>3</th>\n",
       "      <td>6</td>\n",
       "      <td>8501.10.11</td>\n",
       "      <td>Micro motor</td>\n",
       "      <td>Electric motors and generators (excluding gene...</td>\n",
       "      <td>micro motor</td>\n",
       "      <td>[0.0, 0.0, 0.0, 0.0, 0.0, 0.0, 0.0, 0.0, 0.0, ...</td>\n",
       "    </tr>\n",
       "    <tr>\n",
       "      <th>4</th>\n",
       "      <td>7</td>\n",
       "      <td>8501.10.00</td>\n",
       "      <td>Motors  of  an  output  not  exceeding  37.5  ...</td>\n",
       "      <td>Electric motors and generators (excluding gene...</td>\n",
       "      <td>motor of an output not exceed 37.5 w</td>\n",
       "      <td>[0.0, 0.0, 0.0, 0.0, 0.44648012504229373, 0.0,...</td>\n",
       "    </tr>\n",
       "  </tbody>\n",
       "</table>\n",
       "</div>"
      ],
      "text/plain": [
       "   S.No    HSN_Code                                        Description  \\\n",
       "0     1  8501.10.20                                           AC motor   \n",
       "1     4  8501.10.99                                          DC motors   \n",
       "2     5  8501.10.10          Fan motor fitted with revolving mechanism   \n",
       "3     6  8501.10.11                                        Micro motor   \n",
       "4     7  8501.10.00  Motors  of  an  output  not  exceeding  37.5  ...   \n",
       "\n",
       "                                          Unnamed: 3  \\\n",
       "0  Electric motors and generators (excluding gene...   \n",
       "1  Electric motors and generators (excluding gene...   \n",
       "2  Electric motors and generators (excluding gene...   \n",
       "3  Electric motors and generators (excluding gene...   \n",
       "4  Electric motors and generators (excluding gene...   \n",
       "\n",
       "                         Des_lemmatized  \\\n",
       "0                              ac motor   \n",
       "1                              dc motor   \n",
       "2      fan motor fit with revolv mechan   \n",
       "3                           micro motor   \n",
       "4  motor of an output not exceed 37.5 w   \n",
       "\n",
       "                                               tfidf  \n",
       "0  [0.0, 0.0, 0.0, 0.0, 0.0, 0.0, 0.0, 0.0, 0.0, ...  \n",
       "1  [0.0, 0.0, 0.0, 0.0, 0.0, 0.0, 0.0, 0.0, 0.0, ...  \n",
       "2  [0.0, 0.0, 0.0, 0.0, 0.0, 0.0, 0.0, 0.0, 0.0, ...  \n",
       "3  [0.0, 0.0, 0.0, 0.0, 0.0, 0.0, 0.0, 0.0, 0.0, ...  \n",
       "4  [0.0, 0.0, 0.0, 0.0, 0.44648012504229373, 0.0,...  "
      ]
     },
     "execution_count": 56,
     "metadata": {},
     "output_type": "execute_result"
    }
   ],
   "source": [
    "df.head()"
   ]
  },
  {
   "cell_type": "code",
   "execution_count": 57,
   "metadata": {
    "ExecuteTime": {
     "end_time": "2021-04-23T07:12:37.183276Z",
     "start_time": "2021-04-23T07:12:37.177328Z"
    }
   },
   "outputs": [
    {
     "name": "stdout",
     "output_type": "stream",
     "text": [
      "[0.2, 0.2, 0.4, 0.2, 0.2, 0.2, 0.2, 0.2, 0.2, 0.2, 0.0, 0.0, 0.2, 0.2, 0.2, 0.2, 0.2]\n"
     ]
    }
   ],
   "source": [
    "print(js)"
   ]
  },
  {
   "cell_type": "code",
   "execution_count": 58,
   "metadata": {
    "ExecuteTime": {
     "end_time": "2021-04-23T07:12:37.658566Z",
     "start_time": "2021-04-23T07:12:37.650283Z"
    }
   },
   "outputs": [],
   "source": [
    "def prod(qs,j):\n",
    "    res = []\n",
    "    for i in j:\n",
    "        ls = [i*x for x in qs]\n",
    "        res.append(ls)\n",
    "    return res"
   ]
  },
  {
   "cell_type": "code",
   "execution_count": 59,
   "metadata": {
    "ExecuteTime": {
     "end_time": "2021-04-23T07:12:38.044040Z",
     "start_time": "2021-04-23T07:12:38.035920Z"
    }
   },
   "outputs": [],
   "source": [
    "res = prod(q,js)"
   ]
  },
  {
   "cell_type": "code",
   "execution_count": 60,
   "metadata": {
    "ExecuteTime": {
     "end_time": "2021-04-23T07:12:38.495868Z",
     "start_time": "2021-04-23T07:12:38.485725Z"
    }
   },
   "outputs": [
    {
     "data": {
      "text/plain": [
       "[0.6394449154672439, 0.22355660713127667]"
      ]
     },
     "execution_count": 60,
     "metadata": {},
     "output_type": "execute_result"
    }
   ],
   "source": [
    "res[0]"
   ]
  },
  {
   "cell_type": "code",
   "execution_count": 61,
   "metadata": {
    "ExecuteTime": {
     "end_time": "2021-04-23T07:12:39.027212Z",
     "start_time": "2021-04-23T07:12:39.017227Z"
    }
   },
   "outputs": [],
   "source": [
    "\n",
    "import numpy as np\n",
    "def mag(res):\n",
    "    r = []\n",
    "    for i in res:\n",
    "        x = np.array(i)\n",
    "        ans= np.linalg.norm(i)\n",
    "        r.append(ans)\n",
    "    return r\n",
    "        \n"
   ]
  },
  {
   "cell_type": "code",
   "execution_count": 62,
   "metadata": {
    "ExecuteTime": {
     "end_time": "2021-04-23T07:12:39.498117Z",
     "start_time": "2021-04-23T07:12:39.490542Z"
    }
   },
   "outputs": [],
   "source": [
    "r = mag(res)"
   ]
  },
  {
   "cell_type": "code",
   "execution_count": 63,
   "metadata": {
    "ExecuteTime": {
     "end_time": "2021-04-23T07:12:39.861572Z",
     "start_time": "2021-04-23T07:12:39.854388Z"
    }
   },
   "outputs": [
    {
     "name": "stdout",
     "output_type": "stream",
     "text": [
      "[0.6773974878230349, 0.6773974878230349, 1.3547949756460698, 0.6773974878230349, 0.6773974878230349, 0.6773974878230349, 0.6773974878230349, 0.6773974878230349, 0.6773974878230349, 0.6773974878230349, 0.0, 0.0, 0.6773974878230349, 0.6773974878230349, 0.6773974878230349, 0.6773974878230349, 0.6773974878230349]\n"
     ]
    }
   ],
   "source": [
    "print(r)"
   ]
  },
  {
   "cell_type": "code",
   "execution_count": null,
   "metadata": {},
   "outputs": [],
   "source": []
  }
 ],
 "metadata": {
  "kernelspec": {
   "display_name": "Python 3",
   "language": "python",
   "name": "python3"
  },
  "language_info": {
   "codemirror_mode": {
    "name": "ipython",
    "version": 3
   },
   "file_extension": ".py",
   "mimetype": "text/x-python",
   "name": "python",
   "nbconvert_exporter": "python",
   "pygments_lexer": "ipython3",
   "version": "3.7.0"
  },
  "toc": {
   "base_numbering": 1,
   "nav_menu": {},
   "number_sections": true,
   "sideBar": true,
   "skip_h1_title": false,
   "title_cell": "Table of Contents",
   "title_sidebar": "Contents",
   "toc_cell": false,
   "toc_position": {},
   "toc_section_display": true,
   "toc_window_display": false
  }
 },
 "nbformat": 4,
 "nbformat_minor": 2
}
