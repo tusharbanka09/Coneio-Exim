{
 "cells": [
  {
   "cell_type": "code",
   "execution_count": 1,
   "metadata": {
    "ExecuteTime": {
     "end_time": "2021-04-28T07:14:40.235345Z",
     "start_time": "2021-04-28T07:13:56.713306Z"
    }
   },
   "outputs": [],
   "source": [
    "from sklearn.metrics.pairwise import cosine_similarity\n",
    "from sklearn.metrics.pairwise import euclidean_distances\n",
    "import numpy as np\n",
    "from sentence_transformers import SentenceTransformer\n",
    "\n",
    "sbert_model = SentenceTransformer('bert-base-nli-mean-tokens')\n",
    "\n",
    "from nltk import RegexpParser\n",
    "from nltk import pos_tag\n",
    "import re\n",
    "from fuzzywuzzy import process, fuzz\n",
    "\n",
    "from keybert import KeyBERT\n",
    "\n",
    "# doc = \"WHOLE BLACK PEPPER LASTA (IMPORT TO EOU FOR RE- EXPORT)\"\n",
    "model = KeyBERT('distilbert-base-nli-mean-tokens')\n",
    "# keywords = model.extract_keywords(doc)\n",
    "\n",
    "\n",
    "\n",
    "def most_similar(doc_id,similarity_matrix,matrix,doc):\n",
    "    #print (f'Document: {doc[doc_id]}')\n",
    "    #print ('\\n')\n",
    "    #print ('Similar Documents:')\n",
    "    if matrix=='Cosine Similarity':\n",
    "        similar_ix=np.argsort(similarity_matrix[doc_id])[::-1]\n",
    "    elif matrix=='Euclidean Distance':\n",
    "        similar_ix=np.argsort(similarity_matrix[doc_id])\n",
    "    for ix in similar_ix:\n",
    "        if ix==doc_id:\n",
    "            continue\n",
    "        #print('\\n')\n",
    "        #print (f'Document: {doc[ix]}')\n",
    "        #print (f'{matrix} : {similarity_matrix[doc_id][ix]}')\n",
    "    #print (f'{similarity_matrix[doc_id][-1]}')\n",
    "    \n",
    "    try:\n",
    "        print(similarity_matrix[doc_id])\n",
    "        return sorted(similarity_matrix[doc_id], reverse = True)[1]\n",
    "    except:\n",
    "        return 0\n",
    "\n",
    "\n",
    "def key_ex(x):\n",
    "    chunks = []\n",
    "    for i in range(1,5):\n",
    "        ls1 = model.extract_keywords(x, keyphrase_ngram_range=(1, i))\n",
    "\n",
    "        for j in ls1:\n",
    "            chunks.append(j)\n",
    "    return chunks\n",
    "\n",
    "def sel_top(val):\n",
    "    final_val = []\n",
    "    num = 0\n",
    "    for value in val:\n",
    "        print(value)\n",
    "        if num > 5:\n",
    "            break\n",
    "\n",
    "        if value[1] > 0.3:\n",
    "            final_val.append(value[0])\n",
    "            num = num+1\n",
    "    return final_val\n",
    "\n",
    "# query = 'any MOTOR FOR INDUSTRIAL USE'\n",
    "\n",
    "def semantic_check(query,df):\n",
    "    result = []\n",
    "    for x in df['Description'].values:\n",
    "    #     doc = df['Description'].values\n",
    "    #     doc.append(query)\n",
    "#         print(x)\n",
    "    #     chunks = []\n",
    "\n",
    "        chunks = key_ex(x)\n",
    "        chunks = set(chunks)\n",
    "\n",
    "        q_c = set(key_ex(query))\n",
    "\n",
    "        val = sorted(chunks, key = lambda x : x[1], reverse = True )\n",
    "#         print(val)\n",
    "\n",
    "\n",
    "\n",
    "        print(\"\\n\\nFrom Specification\")\n",
    "        final_val = sel_top(val)\n",
    "        print(\"\\n\\nFrom User Description\")\n",
    "        final_val_query = sel_top(q_c) \n",
    "        max_sim = []\n",
    "#         print(final_val_query)\n",
    "        for q in final_val_query :\n",
    "\n",
    "            final_val.append(q)\n",
    "        #     print(doc)\n",
    "            print(\"\\n\\n Checking distance of {} with the rest {} one by one\" .format(final_val[-1], final_val[:]))\n",
    "#             print(final_val)\n",
    "            document_embeddings = sbert_model.encode(final_val)\n",
    "\n",
    "            pairwise_similarities=cosine_similarity(document_embeddings)\n",
    "            pairwise_differences=euclidean_distances(document_embeddings)\n",
    "            max_sim.append(most_similar(-1,pairwise_similarities,'Cosine Similarity',final_val))\n",
    "    #         most_similar(-1,pairwise_differences,'Euclidean Distance', final_val)\n",
    "\n",
    "            final_val = final_val[:-1]\n",
    "        max_val = max(max_sim)\n",
    "        print(\"\\n\\n max_sim \",max_val)\n",
    "        if max_val >= 0.85:\n",
    "             result.append('yes')\n",
    "        else:\n",
    "            result.append(\"no\")\n",
    "        print(\"\\n\\n\")\n",
    "    return result\n",
    "\n",
    "\n",
    "\n",
    "def extract_quants(data):\n",
    "    data = data.replace('\\n', ' ')\n",
    "    data = data.replace(';', ' ')\n",
    "    data = data.replace(',', ' ')\n",
    "    data = data.replace('’', ' ')\n",
    "    data = data.replace('‘', ' ')\n",
    "    data = data.replace('  ',\" \")\n",
    "    data = data.replace('   ',\" \")\n",
    "    data = data.replace('#',\" \")\n",
    "    data = re.sub(r'\\s+',\" \",data)\n",
    "    data = re.sub(r'\\s+$',\"\",data)\n",
    "    data = re.sub(r'(\\(|\\[|\\{).*(\\)|\\]|\\})',\"\",data)\n",
    "    return data\n",
    "\n",
    "def reduce_data(df1):\n",
    "    db=pd.DataFrame(columns=[\"hsn\",\"description\"])\n",
    "    for i in range(len(df1)):\n",
    "        l= df1.iloc[i,1]\n",
    "        l= re.sub(\"(\\(|\\[|\\{).*$\",\"\",l)\n",
    "        l= re.sub(\"\\d{2,}\",\"\",l)\n",
    "        flag=1\n",
    "        for j in range(len(db)):\n",
    "            k = db.iloc[j,1]\n",
    "            if(fuzz.token_set_ratio(l.lower(),k.lower())>90):\n",
    "                flag=0\n",
    "        if flag==1:\n",
    "            db=db.append(pd.DataFrame({\"hsn\":df1.iloc[i,0],\"description\":l},index=[0]), ignore_index=True)\n",
    "    return db\n",
    "\n",
    "def key_from_description(df):\n",
    "    fin=pd.DataFrame(columns=[\"hsn\",\"description\"])\n",
    "    keys = []\n",
    "    for i in range(len(df)):\n",
    "        try:\n",
    "            unit= extract_quants(df.iloc[i]['description'])\n",
    "        except:\n",
    "            unit= extract_quants(df.iloc[i]['Description'])\n",
    "        pattern1 = \"\"\"\n",
    "        P1: {<NN|NNP|NNS|DT|CC|VBZ|JJ|IN|VBN>?<NN|NNP|NNS>}\n",
    "        \"\"\"\n",
    "        PChunker = RegexpParser(pattern1)\n",
    "        res = \"\"\n",
    "        try:\n",
    "            result=PChunker.parse(pos_tag(unit.split()))\n",
    "\n",
    "            for node in result:\n",
    "                if node.label()==\"P1\":\n",
    "                    tmp=\"\"\n",
    "                    for leaf in node.leaves():\n",
    "                        tmp+=leaf[0]+\" \"\n",
    "                    print(tmp)\n",
    "                    res= res + tmp + \", \"\n",
    "\n",
    "\n",
    "    #             else:\n",
    "    #                 fin=fin.append(pd.DataFrame({\"hsn\":df.iloc[i,1],\"description\":\"NULL\"},index=[0]), ignore_index=True)\n",
    "        except:\n",
    "            pass\n",
    "    #         res.append(\"NULL\")\n",
    "        print(\"Res : \", res)\n",
    "    #         fin=fin.append(pd.DataFrame({\"hsn\":df.iloc[i,1],\"description\":\"NULL\"},index=[0]), ignore_index=True)\n",
    "        keys.append(res)\n",
    "    try:\n",
    "        fin['hsn'] = df['hsn'].values\n",
    "    except:\n",
    "        fin['hsn'] = df['HSN_Code'].values\n",
    "\n",
    "    fin['description'] = keys\n",
    "    #     fin=fin.append(pd.DataFrame({\"hsn\":df.iloc[i,1],\"description\":res},index=[0]), ignore_index=True)\n",
    "    #         \n",
    "            #fin=fin.append(pd.DataFrame({\"hsn\":df.iloc[i,0],\"description\":\"\"},index=[0]), ignore_index=True)\n",
    "    # fin= reduce_data(fin)\n",
    "    print(fin)\n",
    "    return fin"
   ]
  },
  {
   "cell_type": "code",
   "execution_count": 2,
   "metadata": {
    "ExecuteTime": {
     "end_time": "2021-04-28T07:14:40.240332Z",
     "start_time": "2021-04-28T07:14:40.236342Z"
    }
   },
   "outputs": [],
   "source": [
    "import pandas as pd"
   ]
  },
  {
   "cell_type": "code",
   "execution_count": 3,
   "metadata": {
    "ExecuteTime": {
     "end_time": "2021-04-28T07:15:00.186754Z",
     "start_time": "2021-04-28T07:14:40.241329Z"
    }
   },
   "outputs": [
    {
     "name": "stdout",
     "output_type": "stream",
     "text": [
      "\n",
      "\n",
      "From Specification\n",
      "('ac motor', 1.0)\n",
      "('ac', 0.8593)\n",
      "('motor', 0.8075)\n",
      "\n",
      "\n",
      "From User Description\n",
      "('use', 0.4857)\n",
      "('ac motor industrial use', 0.9578)\n",
      "('ac motor industrial', 0.918)\n",
      "('ac motor', 0.8242)\n",
      "('motor', 0.6969)\n",
      "('ac', 0.6493)\n",
      "('motor industrial', 0.818)\n",
      "\n",
      "\n",
      " Checking distance of use with the rest ['ac motor', 'ac', 'motor', 'use'] one by one\n",
      "[0.51019114 0.8280917  0.75525415 1.        ]\n",
      "\n",
      "\n",
      " Checking distance of ac motor industrial use with the rest ['ac motor', 'ac', 'motor', 'ac motor industrial use'] one by one\n",
      "[0.9004084  0.5848563  0.59126663 0.9999999 ]\n",
      "\n",
      "\n",
      " Checking distance of ac motor industrial with the rest ['ac motor', 'ac', 'motor', 'ac motor industrial'] one by one\n",
      "[0.9181597  0.65114915 0.6326751  0.99999994]\n",
      "\n",
      "\n",
      " Checking distance of ac motor with the rest ['ac motor', 'ac', 'motor', 'ac motor'] one by one\n",
      "[1.0000002  0.75076145 0.72345567 1.0000002 ]\n",
      "\n",
      "\n",
      " Checking distance of motor with the rest ['ac motor', 'ac', 'motor', 'motor'] one by one\n",
      "[0.72345567 0.746824   1.0000001  1.0000001 ]\n",
      "\n",
      "\n",
      " Checking distance of ac with the rest ['ac motor', 'ac', 'motor', 'ac'] one by one\n",
      "[0.75076145 1.         0.746824   1.        ]\n",
      "\n",
      "\n",
      " max_sim  1.0000002\n",
      "\n",
      "\n",
      "\n",
      "\n",
      "\n",
      "From Specification\n",
      "('dc motors', 1.0)\n",
      "('dc', 0.8236)\n",
      "('motors', 0.7479)\n",
      "\n",
      "\n",
      "From User Description\n",
      "('use', 0.4857)\n",
      "('ac motor industrial use', 0.9578)\n",
      "('ac motor industrial', 0.918)\n",
      "('ac motor', 0.8242)\n",
      "('motor', 0.6969)\n",
      "('ac', 0.6493)\n",
      "('motor industrial', 0.818)\n",
      "\n",
      "\n",
      " Checking distance of use with the rest ['dc motors', 'dc', 'motors', 'use'] one by one\n",
      "[0.5346109 0.740728  0.6800449 1.       ]\n",
      "\n",
      "\n",
      " Checking distance of ac motor industrial use with the rest ['dc motors', 'dc', 'motors', 'ac motor industrial use'] one by one\n",
      "[0.78350693 0.48393437 0.6440021  0.9999999 ]\n",
      "\n",
      "\n",
      " Checking distance of ac motor industrial with the rest ['dc motors', 'dc', 'motors', 'ac motor industrial'] one by one\n",
      "[0.79249424 0.5270002  0.6741378  0.99999994]\n",
      "\n",
      "\n",
      " Checking distance of ac motor with the rest ['dc motors', 'dc', 'motors', 'ac motor'] one by one\n",
      "[0.8654847  0.60775673 0.7443902  1.0000002 ]\n",
      "\n",
      "\n",
      " Checking distance of motor with the rest ['dc motors', 'dc', 'motors', 'motor'] one by one\n",
      "[0.75814146 0.6258387  0.94706273 1.0000001 ]\n",
      "\n",
      "\n",
      " Checking distance of ac with the rest ['dc motors', 'dc', 'motors', 'ac'] one by one\n",
      "[0.69274926 0.8274438  0.7104611  1.        ]\n",
      "\n",
      "\n",
      " max_sim  0.94706273\n",
      "\n",
      "\n",
      "\n",
      "\n",
      "\n",
      "From Specification\n",
      "('fan motor fitted revolving', 0.9836)\n",
      "('fan motor fitted', 0.9196)\n",
      "('motor fitted revolving mechanism', 0.8993)\n",
      "('motor fitted revolving', 0.8925)\n",
      "('fan motor', 0.8554)\n",
      "('fitted revolving mechanism', 0.8153)\n",
      "('fitted revolving', 0.7729)\n",
      "\n",
      "\n",
      "From User Description\n",
      "('use', 0.4857)\n",
      "('ac motor industrial use', 0.9578)\n",
      "('ac motor industrial', 0.918)\n",
      "('ac motor', 0.8242)\n",
      "('motor', 0.6969)\n",
      "('ac', 0.6493)\n",
      "('motor industrial', 0.818)\n",
      "\n",
      "\n",
      " Checking distance of use with the rest ['fan motor fitted revolving', 'fan motor fitted', 'motor fitted revolving mechanism', 'motor fitted revolving', 'fan motor', 'fitted revolving mechanism', 'use'] one by one\n",
      "[0.52707493 0.6016538  0.5791537  0.62162596 0.61828595 0.7093311\n",
      " 1.        ]\n",
      "\n",
      "\n",
      " Checking distance of ac motor industrial use with the rest ['fan motor fitted revolving', 'fan motor fitted', 'motor fitted revolving mechanism', 'motor fitted revolving', 'fan motor', 'fitted revolving mechanism', 'ac motor industrial use'] one by one\n",
      "[0.664752   0.6945691  0.637996   0.59849524 0.70225763 0.52050817\n",
      " 0.9999999 ]\n",
      "\n",
      "\n",
      " Checking distance of ac motor industrial with the rest ['fan motor fitted revolving', 'fan motor fitted', 'motor fitted revolving mechanism', 'motor fitted revolving', 'fan motor', 'fitted revolving mechanism', 'ac motor industrial'] one by one\n",
      "[0.67807007 0.7059002  0.6530174  0.63066554 0.7158559  0.5465664\n",
      " 0.99999994]\n",
      "\n",
      "\n",
      " Checking distance of ac motor with the rest ['fan motor fitted revolving', 'fan motor fitted', 'motor fitted revolving mechanism', 'motor fitted revolving', 'fan motor', 'fitted revolving mechanism', 'ac motor'] one by one\n",
      "[0.7495812  0.79140043 0.71284246 0.69709015 0.81683713 0.63008475\n",
      " 1.0000002 ]\n",
      "\n",
      "\n",
      " Checking distance of motor with the rest ['fan motor fitted revolving', 'fan motor fitted', 'motor fitted revolving mechanism', 'motor fitted revolving', 'fan motor', 'fitted revolving mechanism', 'motor'] one by one\n",
      "[0.68434507 0.71731746 0.8193016  0.82669574 0.7942165  0.7574563\n",
      " 1.0000001 ]\n",
      "\n",
      "\n",
      " Checking distance of ac with the rest ['fan motor fitted revolving', 'fan motor fitted', 'motor fitted revolving mechanism', 'motor fitted revolving', 'fan motor', 'fitted revolving mechanism', 'ac'] one by one\n",
      "[0.63201714 0.6996149  0.5992745  0.6492844  0.72727257 0.6838236\n",
      " 1.        ]\n",
      "\n",
      "\n",
      " max_sim  0.82669574\n",
      "\n",
      "\n",
      "\n",
      "\n",
      "\n",
      "From Specification\n",
      "('micro motor', 1.0)\n",
      "('micro', 0.8759)\n",
      "('motor', 0.7439)\n",
      "\n",
      "\n",
      "From User Description\n",
      "('use', 0.4857)\n",
      "('ac motor industrial use', 0.9578)\n",
      "('ac motor industrial', 0.918)\n",
      "('ac motor', 0.8242)\n",
      "('motor', 0.6969)\n",
      "('ac', 0.6493)\n",
      "('motor industrial', 0.818)\n",
      "\n",
      "\n",
      " Checking distance of use with the rest ['micro motor', 'micro', 'motor', 'use'] one by one\n",
      "[0.61994874 0.7575083  0.75525415 1.        ]\n",
      "\n",
      "\n",
      " Checking distance of ac motor industrial use with the rest ['micro motor', 'micro', 'motor', 'ac motor industrial use'] one by one\n",
      "[0.44369182 0.25295973 0.59126663 0.9999999 ]\n",
      "\n",
      "\n",
      " Checking distance of ac motor industrial with the rest ['micro motor', 'micro', 'motor', 'ac motor industrial'] one by one\n",
      "[0.4906497  0.30867052 0.6326751  0.99999994]\n",
      "\n",
      "\n",
      " Checking distance of ac motor with the rest ['micro motor', 'micro', 'motor', 'ac motor'] one by one\n",
      "[0.5519009  0.40246987 0.72345567 1.0000002 ]\n",
      "\n",
      "\n",
      " Checking distance of motor with the rest ['micro motor', 'micro', 'motor', 'motor'] one by one\n",
      "[0.7353648 0.6431531 1.0000001 1.0000001]\n",
      "\n",
      "\n",
      " Checking distance of ac with the rest ['micro motor', 'micro', 'motor', 'ac'] one by one\n",
      "[0.60779303 0.6816292  0.746824   1.        ]\n",
      "\n",
      "\n",
      " max_sim  1.0000001\n",
      "\n",
      "\n",
      "\n",
      "\n",
      "\n",
      "From Specification\n",
      "('motors output exceeding 37', 0.7456)\n",
      "('output exceeding 37', 0.6329)\n",
      "('motors output', 0.6155)\n",
      "('motors output exceeding', 0.613)\n",
      "('motors', 0.5939)\n",
      "('exceeding 37', 0.5309)\n",
      "('37', 0.4958)\n",
      "\n",
      "\n",
      "From User Description\n",
      "('use', 0.4857)\n",
      "('ac motor industrial use', 0.9578)\n",
      "('ac motor industrial', 0.918)\n",
      "('ac motor', 0.8242)\n",
      "('motor', 0.6969)\n",
      "('ac', 0.6493)\n",
      "('motor industrial', 0.818)\n",
      "\n",
      "\n",
      " Checking distance of use with the rest ['motors output exceeding 37', 'output exceeding 37', 'motors output', 'motors output exceeding', 'motors', 'exceeding 37', 'use'] one by one\n",
      "[0.41304123 0.53847396 0.63099515 0.5426774  0.6800449  0.6049938\n",
      " 1.        ]\n",
      "\n",
      "\n",
      " Checking distance of ac motor industrial use with the rest ['motors output exceeding 37', 'output exceeding 37', 'motors output', 'motors output exceeding', 'motors', 'exceeding 37', 'ac motor industrial use'] one by one\n",
      "[0.5248296  0.4061619  0.72670805 0.57302105 0.6440021  0.3147809\n",
      " 0.9999999 ]\n",
      "\n",
      "\n",
      " Checking distance of ac motor industrial with the rest ['motors output exceeding 37', 'output exceeding 37', 'motors output', 'motors output exceeding', 'motors', 'exceeding 37', 'ac motor industrial'] one by one\n",
      "[0.5316514  0.42058703 0.72845256 0.58261245 0.6741378  0.34799019\n",
      " 0.99999994]\n",
      "\n",
      "\n",
      " Checking distance of ac motor with the rest ['motors output exceeding 37', 'output exceeding 37', 'motors output', 'motors output exceeding', 'motors', 'exceeding 37', 'ac motor'] one by one\n",
      "[0.55523443 0.47826877 0.7679001  0.6263067  0.7443902  0.41110906\n",
      " 1.0000002 ]\n",
      "\n",
      "\n",
      " Checking distance of motor with the rest ['motors output exceeding 37', 'output exceeding 37', 'motors output', 'motors output exceeding', 'motors', 'exceeding 37', 'motor'] one by one\n",
      "[0.55087155 0.51951694 0.8712373  0.72015566 0.94706273 0.5264343\n",
      " 1.0000001 ]\n",
      "\n",
      "\n",
      " Checking distance of ac with the rest ['motors output exceeding 37', 'output exceeding 37', 'motors output', 'motors output exceeding', 'motors', 'exceeding 37', 'ac'] one by one\n",
      "[0.4809123  0.56177974 0.6555984  0.58731705 0.7104611  0.5938185\n",
      " 1.        ]\n",
      "\n",
      "\n",
      " max_sim  0.94706273\n",
      "\n",
      "\n",
      "\n",
      "\n",
      "\n",
      "From Specification\n",
      "('motors output exceeding 37', 0.7456)\n",
      "('output exceeding 37', 0.6329)\n",
      "('motors output', 0.6155)\n",
      "('motors output exceeding', 0.613)\n",
      "('motors', 0.5939)\n",
      "('exceeding 37', 0.5309)\n",
      "('37', 0.4958)\n",
      "\n",
      "\n",
      "From User Description\n",
      "('use', 0.4857)\n",
      "('ac motor industrial use', 0.9578)\n",
      "('ac motor industrial', 0.918)\n",
      "('ac motor', 0.8242)\n",
      "('motor', 0.6969)\n",
      "('ac', 0.6493)\n",
      "('motor industrial', 0.818)\n",
      "\n",
      "\n",
      " Checking distance of use with the rest ['motors output exceeding 37', 'output exceeding 37', 'motors output', 'motors output exceeding', 'motors', 'exceeding 37', 'use'] one by one\n",
      "[0.41304123 0.53847396 0.63099515 0.5426774  0.6800449  0.6049938\n",
      " 1.        ]\n",
      "\n",
      "\n",
      " Checking distance of ac motor industrial use with the rest ['motors output exceeding 37', 'output exceeding 37', 'motors output', 'motors output exceeding', 'motors', 'exceeding 37', 'ac motor industrial use'] one by one\n",
      "[0.5248296  0.4061619  0.72670805 0.57302105 0.6440021  0.3147809\n",
      " 0.9999999 ]\n",
      "\n",
      "\n",
      " Checking distance of ac motor industrial with the rest ['motors output exceeding 37', 'output exceeding 37', 'motors output', 'motors output exceeding', 'motors', 'exceeding 37', 'ac motor industrial'] one by one\n"
     ]
    },
    {
     "name": "stdout",
     "output_type": "stream",
     "text": [
      "[0.5316514  0.42058703 0.72845256 0.58261245 0.6741378  0.34799019\n",
      " 0.99999994]\n",
      "\n",
      "\n",
      " Checking distance of ac motor with the rest ['motors output exceeding 37', 'output exceeding 37', 'motors output', 'motors output exceeding', 'motors', 'exceeding 37', 'ac motor'] one by one\n",
      "[0.55523443 0.47826877 0.7679001  0.6263067  0.7443902  0.41110906\n",
      " 1.0000002 ]\n",
      "\n",
      "\n",
      " Checking distance of motor with the rest ['motors output exceeding 37', 'output exceeding 37', 'motors output', 'motors output exceeding', 'motors', 'exceeding 37', 'motor'] one by one\n",
      "[0.55087155 0.51951694 0.8712373  0.72015566 0.94706273 0.5264343\n",
      " 1.0000001 ]\n",
      "\n",
      "\n",
      " Checking distance of ac with the rest ['motors output exceeding 37', 'output exceeding 37', 'motors output', 'motors output exceeding', 'motors', 'exceeding 37', 'ac'] one by one\n",
      "[0.4809123  0.56177974 0.6555984  0.58731705 0.7104611  0.5938185\n",
      " 1.        ]\n",
      "\n",
      "\n",
      " max_sim  0.94706273\n",
      "\n",
      "\n",
      "\n",
      "\n",
      "\n",
      "From Specification\n",
      "('vehicles output 37 5w', 0.8172)\n",
      "('motors vehicles output 37', 0.7849)\n",
      "('vehicles output 37', 0.7761)\n",
      "('output 37 5w', 0.7007)\n",
      "('output 37', 0.6624)\n",
      "('37 5w', 0.6177)\n",
      "('37', 0.5935)\n",
      "\n",
      "\n",
      "From User Description\n",
      "('use', 0.4857)\n",
      "('ac motor industrial use', 0.9578)\n",
      "('ac motor industrial', 0.918)\n",
      "('ac motor', 0.8242)\n",
      "('motor', 0.6969)\n",
      "('ac', 0.6493)\n",
      "('motor industrial', 0.818)\n",
      "\n",
      "\n",
      " Checking distance of use with the rest ['vehicles output 37 5w', 'motors vehicles output 37', 'vehicles output 37', 'output 37 5w', 'output 37', '37 5w', 'use'] one by one\n",
      "[0.33892268 0.3445458  0.40489554 0.49748722 0.62575173 0.62130296\n",
      " 1.        ]\n",
      "\n",
      "\n",
      " Checking distance of ac motor industrial use with the rest ['vehicles output 37 5w', 'motors vehicles output 37', 'vehicles output 37', 'output 37 5w', 'output 37', '37 5w', 'ac motor industrial use'] one by one\n",
      "[0.47070664 0.5687278  0.4593539  0.41098237 0.4437641  0.26893237\n",
      " 0.9999999 ]\n",
      "\n",
      "\n",
      " Checking distance of ac motor industrial with the rest ['vehicles output 37 5w', 'motors vehicles output 37', 'vehicles output 37', 'output 37 5w', 'output 37', '37 5w', 'ac motor industrial'] one by one\n",
      "[0.48988223 0.5745971  0.46951914 0.45331126 0.46934414 0.33152258\n",
      " 0.99999994]\n",
      "\n",
      "\n",
      " Checking distance of ac motor with the rest ['vehicles output 37 5w', 'motors vehicles output 37', 'vehicles output 37', 'output 37 5w', 'output 37', '37 5w', 'ac motor'] one by one\n",
      "[0.47028732 0.5395598  0.44792363 0.47342932 0.4896378  0.37748343\n",
      " 1.0000002 ]\n",
      "\n",
      "\n",
      " Checking distance of motor with the rest ['vehicles output 37 5w', 'motors vehicles output 37', 'vehicles output 37', 'output 37 5w', 'output 37', '37 5w', 'motor'] one by one\n",
      "[0.46584392 0.5100363  0.49378395 0.5093145  0.5640158  0.5371612\n",
      " 1.0000001 ]\n",
      "\n",
      "\n",
      " Checking distance of ac with the rest ['vehicles output 37 5w', 'motors vehicles output 37', 'vehicles output 37', 'output 37 5w', 'output 37', '37 5w', 'ac'] one by one\n",
      "[0.4388459  0.43658784 0.45489675 0.5635663  0.6240533  0.6187606\n",
      " 1.        ]\n",
      "\n",
      "\n",
      " max_sim  0.62575173\n",
      "\n",
      "\n",
      "\n",
      "\n",
      "\n",
      "From Specification\n",
      "('vehicles output 37 5w', 0.9055)\n",
      "('motors vehicles output 37', 0.8797)\n",
      "('vehicles output 37', 0.8399)\n",
      "('output 37 5w', 0.7829)\n",
      "('output 37', 0.7213)\n",
      "('37 5w', 0.6901)\n",
      "('motors', 0.6622)\n",
      "\n",
      "\n",
      "From User Description\n",
      "('use', 0.4857)\n",
      "('ac motor industrial use', 0.9578)\n",
      "('ac motor industrial', 0.918)\n",
      "('ac motor', 0.8242)\n",
      "('motor', 0.6969)\n",
      "('ac', 0.6493)\n",
      "('motor industrial', 0.818)\n",
      "\n",
      "\n",
      " Checking distance of use with the rest ['vehicles output 37 5w', 'motors vehicles output 37', 'vehicles output 37', 'output 37 5w', 'output 37', '37 5w', 'use'] one by one\n",
      "[0.33892268 0.3445458  0.40489554 0.49748722 0.62575173 0.62130296\n",
      " 1.        ]\n",
      "\n",
      "\n",
      " Checking distance of ac motor industrial use with the rest ['vehicles output 37 5w', 'motors vehicles output 37', 'vehicles output 37', 'output 37 5w', 'output 37', '37 5w', 'ac motor industrial use'] one by one\n",
      "[0.47070664 0.5687278  0.4593539  0.41098237 0.4437641  0.26893237\n",
      " 0.9999999 ]\n",
      "\n",
      "\n",
      " Checking distance of ac motor industrial with the rest ['vehicles output 37 5w', 'motors vehicles output 37', 'vehicles output 37', 'output 37 5w', 'output 37', '37 5w', 'ac motor industrial'] one by one\n",
      "[0.48988223 0.5745971  0.46951914 0.45331126 0.46934414 0.33152258\n",
      " 0.99999994]\n",
      "\n",
      "\n",
      " Checking distance of ac motor with the rest ['vehicles output 37 5w', 'motors vehicles output 37', 'vehicles output 37', 'output 37 5w', 'output 37', '37 5w', 'ac motor'] one by one\n",
      "[0.47028732 0.5395598  0.44792363 0.47342932 0.4896378  0.37748343\n",
      " 1.0000002 ]\n",
      "\n",
      "\n",
      " Checking distance of motor with the rest ['vehicles output 37 5w', 'motors vehicles output 37', 'vehicles output 37', 'output 37 5w', 'output 37', '37 5w', 'motor'] one by one\n",
      "[0.46584392 0.5100363  0.49378395 0.5093145  0.5640158  0.5371612\n",
      " 1.0000001 ]\n",
      "\n",
      "\n",
      " Checking distance of ac with the rest ['vehicles output 37 5w', 'motors vehicles output 37', 'vehicles output 37', 'output 37 5w', 'output 37', '37 5w', 'ac'] one by one\n",
      "[0.4388459  0.43658784 0.45489675 0.5635663  0.6240533  0.6187606\n",
      " 1.        ]\n",
      "\n",
      "\n",
      " max_sim  0.62575173\n",
      "\n",
      "\n",
      "\n",
      "\n",
      "\n",
      "From Specification\n",
      "('motors output', 0.6972)\n",
      "('motors', 0.6944)\n",
      "('output', 0.6681)\n",
      "\n",
      "\n",
      "From User Description\n",
      "('use', 0.4857)\n",
      "('ac motor industrial use', 0.9578)\n",
      "('ac motor industrial', 0.918)\n",
      "('ac motor', 0.8242)\n",
      "('motor', 0.6969)\n",
      "('ac', 0.6493)\n",
      "('motor industrial', 0.818)\n",
      "\n",
      "\n",
      " Checking distance of use with the rest ['motors output', 'motors', 'output', 'use'] one by one\n",
      "[0.63099515 0.6800449  0.87901485 1.        ]\n",
      "\n",
      "\n",
      " Checking distance of ac motor industrial use with the rest ['motors output', 'motors', 'output', 'ac motor industrial use'] one by one\n",
      "[0.72670805 0.6440021  0.48919052 0.9999999 ]\n",
      "\n",
      "\n",
      " Checking distance of ac motor industrial with the rest ['motors output', 'motors', 'output', 'ac motor industrial'] one by one\n",
      "[0.72845256 0.6741378  0.5294503  0.99999994]\n",
      "\n",
      "\n",
      " Checking distance of ac motor with the rest ['motors output', 'motors', 'output', 'ac motor'] one by one\n",
      "[0.7679001 0.7443902 0.6093664 1.0000002]\n",
      "\n",
      "\n",
      " Checking distance of motor with the rest ['motors output', 'motors', 'output', 'motor'] one by one\n",
      "[0.8712373  0.94706273 0.76933706 1.0000001 ]\n",
      "\n",
      "\n",
      " Checking distance of ac with the rest ['motors output', 'motors', 'output', 'ac'] one by one\n",
      "[0.6555984  0.7104611  0.84019566 1.        ]\n",
      "\n",
      "\n",
      " max_sim  0.94706273\n",
      "\n",
      "\n",
      "\n",
      "\n",
      "\n",
      "From Specification\n",
      "('motors output exceeding 37', 0.7456)\n",
      "('output exceeding 37', 0.6329)\n",
      "('motors output', 0.6155)\n",
      "('motors output exceeding', 0.613)\n",
      "('motors', 0.5939)\n",
      "('exceeding 37', 0.5309)\n",
      "('37', 0.4958)\n",
      "\n",
      "\n",
      "From User Description\n",
      "('use', 0.4857)\n",
      "('ac motor industrial use', 0.9578)\n",
      "('ac motor industrial', 0.918)\n",
      "('ac motor', 0.8242)\n",
      "('motor', 0.6969)\n",
      "('ac', 0.6493)\n",
      "('motor industrial', 0.818)\n",
      "\n",
      "\n",
      " Checking distance of use with the rest ['motors output exceeding 37', 'output exceeding 37', 'motors output', 'motors output exceeding', 'motors', 'exceeding 37', 'use'] one by one\n",
      "[0.41304123 0.53847396 0.63099515 0.5426774  0.6800449  0.6049938\n",
      " 1.        ]\n",
      "\n",
      "\n",
      " Checking distance of ac motor industrial use with the rest ['motors output exceeding 37', 'output exceeding 37', 'motors output', 'motors output exceeding', 'motors', 'exceeding 37', 'ac motor industrial use'] one by one\n",
      "[0.5248296  0.4061619  0.72670805 0.57302105 0.6440021  0.3147809\n",
      " 0.9999999 ]\n",
      "\n",
      "\n",
      " Checking distance of ac motor industrial with the rest ['motors output exceeding 37', 'output exceeding 37', 'motors output', 'motors output exceeding', 'motors', 'exceeding 37', 'ac motor industrial'] one by one\n",
      "[0.5316514  0.42058703 0.72845256 0.58261245 0.6741378  0.34799019\n",
      " 0.99999994]\n",
      "\n",
      "\n",
      " Checking distance of ac motor with the rest ['motors output exceeding 37', 'output exceeding 37', 'motors output', 'motors output exceeding', 'motors', 'exceeding 37', 'ac motor'] one by one\n",
      "[0.55523443 0.47826877 0.7679001  0.6263067  0.7443902  0.41110906\n",
      " 1.0000002 ]\n",
      "\n",
      "\n",
      " Checking distance of motor with the rest ['motors output exceeding 37', 'output exceeding 37', 'motors output', 'motors output exceeding', 'motors', 'exceeding 37', 'motor'] one by one\n",
      "[0.55087155 0.51951694 0.8712373  0.72015566 0.94706273 0.5264343\n",
      " 1.0000001 ]\n",
      "\n",
      "\n",
      " Checking distance of ac with the rest ['motors output exceeding 37', 'output exceeding 37', 'motors output', 'motors output exceeding', 'motors', 'exceeding 37', 'ac'] one by one\n"
     ]
    },
    {
     "name": "stdout",
     "output_type": "stream",
     "text": [
      "[0.4809123  0.56177974 0.6555984  0.58731705 0.7104611  0.5938185\n",
      " 1.        ]\n",
      "\n",
      "\n",
      " max_sim  0.94706273\n",
      "\n",
      "\n",
      "\n",
      "\n",
      "\n",
      "From Specification\n",
      "('goods heading 84 15', 0.8434)\n",
      "('goods heading 84', 0.8366)\n",
      "('used goods heading 84', 0.8211)\n",
      "('heading 84 15 84', 0.7579)\n",
      "('84 15 84', 0.7457)\n",
      "('84 18 84', 0.7294)\n",
      "('heading 84', 0.7293)\n",
      "\n",
      "\n",
      "From User Description\n",
      "('use', 0.4857)\n",
      "('ac motor industrial use', 0.9578)\n",
      "('ac motor industrial', 0.918)\n",
      "('ac motor', 0.8242)\n",
      "('motor', 0.6969)\n",
      "('ac', 0.6493)\n",
      "('motor industrial', 0.818)\n",
      "\n",
      "\n",
      " Checking distance of use with the rest ['goods heading 84 15', 'goods heading 84', 'used goods heading 84', 'heading 84 15 84', '84 15 84', '84 18 84', 'use'] one by one\n",
      "[0.48194772 0.4682594  0.44776988 0.53978705 0.5803634  0.6148958\n",
      " 1.        ]\n",
      "\n",
      "\n",
      " Checking distance of ac motor industrial use with the rest ['goods heading 84 15', 'goods heading 84', 'used goods heading 84', 'heading 84 15 84', '84 15 84', '84 18 84', 'ac motor industrial use'] one by one\n",
      "[0.38190556 0.35962698 0.37028235 0.3516097  0.31537923 0.30126047\n",
      " 0.9999999 ]\n",
      "\n",
      "\n",
      " Checking distance of ac motor industrial with the rest ['goods heading 84 15', 'goods heading 84', 'used goods heading 84', 'heading 84 15 84', '84 15 84', '84 18 84', 'ac motor industrial'] one by one\n",
      "[0.40254632 0.38547862 0.3850199  0.39124006 0.36457878 0.3625506\n",
      " 0.99999994]\n",
      "\n",
      "\n",
      " Checking distance of ac motor with the rest ['goods heading 84 15', 'goods heading 84', 'used goods heading 84', 'heading 84 15 84', '84 15 84', '84 18 84', 'ac motor'] one by one\n",
      "[0.34782195 0.34894073 0.32174417 0.36466795 0.36868265 0.3736133\n",
      " 1.0000002 ]\n",
      "\n",
      "\n",
      " Checking distance of motor with the rest ['goods heading 84 15', 'goods heading 84', 'used goods heading 84', 'heading 84 15 84', '84 15 84', '84 18 84', 'motor'] one by one\n",
      "[0.50014293 0.43070075 0.4118817  0.55004805 0.5576389  0.52660775\n",
      " 1.0000001 ]\n",
      "\n",
      "\n",
      " Checking distance of ac with the rest ['goods heading 84 15', 'goods heading 84', 'used goods heading 84', 'heading 84 15 84', '84 15 84', '84 18 84', 'ac'] one by one\n",
      "[0.48049134 0.48469818 0.44788226 0.5311004  0.56801903 0.618552\n",
      " 1.        ]\n",
      "\n",
      "\n",
      " max_sim  0.618552\n",
      "\n",
      "\n",
      "\n",
      "\n",
      "\n",
      "From Specification\n",
      "('output exceeding', 0.5892)\n",
      "('exceeding', 0.542)\n",
      "('output', 0.5248)\n",
      "\n",
      "\n",
      "From User Description\n",
      "('use', 0.4857)\n",
      "('ac motor industrial use', 0.9578)\n",
      "('ac motor industrial', 0.918)\n",
      "('ac motor', 0.8242)\n",
      "('motor', 0.6969)\n",
      "('ac', 0.6493)\n",
      "('motor industrial', 0.818)\n",
      "\n",
      "\n",
      " Checking distance of use with the rest ['output exceeding', 'exceeding', 'output', 'use'] one by one\n",
      "[0.7132521  0.7964866  0.87901485 1.        ]\n",
      "\n",
      "\n",
      " Checking distance of ac motor industrial use with the rest ['output exceeding', 'exceeding', 'output', 'ac motor industrial use'] one by one\n",
      "[0.39333934 0.2898291  0.48919052 0.9999999 ]\n",
      "\n",
      "\n",
      " Checking distance of ac motor industrial with the rest ['output exceeding', 'exceeding', 'output', 'ac motor industrial'] one by one\n",
      "[0.41980428 0.33210376 0.5294503  0.99999994]\n",
      "\n",
      "\n",
      " Checking distance of ac motor with the rest ['output exceeding', 'exceeding', 'output', 'ac motor'] one by one\n",
      "[0.50381446 0.452079   0.6093664  1.0000002 ]\n",
      "\n",
      "\n",
      " Checking distance of motor with the rest ['output exceeding', 'exceeding', 'output', 'motor'] one by one\n",
      "[0.6448625  0.6747801  0.76933706 1.0000001 ]\n",
      "\n",
      "\n",
      " Checking distance of ac with the rest ['output exceeding', 'exceeding', 'output', 'ac'] one by one\n",
      "[0.6935482  0.7446396  0.84019566 1.        ]\n",
      "\n",
      "\n",
      " max_sim  0.87901485\n",
      "\n",
      "\n",
      "\n",
      "\n",
      "\n",
      "From Specification\n",
      "('spindle motors', 1.0)\n",
      "('spindle', 0.8696)\n",
      "('motors', 0.8433)\n",
      "\n",
      "\n",
      "From User Description\n",
      "('use', 0.4857)\n",
      "('ac motor industrial use', 0.9578)\n",
      "('ac motor industrial', 0.918)\n",
      "('ac motor', 0.8242)\n",
      "('motor', 0.6969)\n",
      "('ac', 0.6493)\n",
      "('motor industrial', 0.818)\n",
      "\n",
      "\n",
      " Checking distance of use with the rest ['spindle motors', 'spindle', 'motors', 'use'] one by one\n",
      "[0.54082495 0.6923304  0.6800449  1.        ]\n",
      "\n",
      "\n",
      " Checking distance of ac motor industrial use with the rest ['spindle motors', 'spindle', 'motors', 'ac motor industrial use'] one by one\n",
      "[0.6662016  0.49106455 0.6440021  0.9999999 ]\n",
      "\n",
      "\n",
      " Checking distance of ac motor industrial with the rest ['spindle motors', 'spindle', 'motors', 'ac motor industrial'] one by one\n",
      "[0.67341423 0.51900923 0.6741378  0.99999994]\n",
      "\n",
      "\n",
      " Checking distance of ac motor with the rest ['spindle motors', 'spindle', 'motors', 'ac motor'] one by one\n",
      "[0.72306144 0.59628904 0.7443902  1.0000002 ]\n",
      "\n",
      "\n",
      " Checking distance of motor with the rest ['spindle motors', 'spindle', 'motors', 'motor'] one by one\n",
      "[0.80172884 0.7364421  0.94706273 1.0000001 ]\n",
      "\n",
      "\n",
      " Checking distance of ac with the rest ['spindle motors', 'spindle', 'motors', 'ac'] one by one\n",
      "[0.5800728  0.66835403 0.7104611  1.        ]\n",
      "\n",
      "\n",
      " max_sim  0.94706273\n",
      "\n",
      "\n",
      "\n",
      "\n",
      "\n",
      "From Specification\n",
      "('stepper motor', 1.0)\n",
      "('stepper', 0.8758)\n",
      "('motor', 0.7847)\n",
      "\n",
      "\n",
      "From User Description\n",
      "('use', 0.4857)\n",
      "('ac motor industrial use', 0.9578)\n",
      "('ac motor industrial', 0.918)\n",
      "('ac motor', 0.8242)\n",
      "('motor', 0.6969)\n",
      "('ac', 0.6493)\n",
      "('motor industrial', 0.818)\n",
      "\n",
      "\n",
      " Checking distance of use with the rest ['stepper motor', 'stepper', 'motor', 'use'] one by one\n",
      "[0.5847634  0.59199506 0.75525415 1.        ]\n",
      "\n",
      "\n",
      " Checking distance of ac motor industrial use with the rest ['stepper motor', 'stepper', 'motor', 'ac motor industrial use'] one by one\n",
      "[0.5599056  0.3035304  0.59126663 0.9999999 ]\n",
      "\n",
      "\n",
      " Checking distance of ac motor industrial with the rest ['stepper motor', 'stepper', 'motor', 'ac motor industrial'] one by one\n",
      "[0.5702853  0.31515864 0.6326751  0.99999994]\n",
      "\n",
      "\n",
      " Checking distance of ac motor with the rest ['stepper motor', 'stepper', 'motor', 'ac motor'] one by one\n",
      "[0.6021905  0.3692992  0.72345567 1.0000002 ]\n",
      "\n",
      "\n",
      " Checking distance of motor with the rest ['stepper motor', 'stepper', 'motor', 'motor'] one by one\n",
      "[0.8065587 0.5667272 1.0000001 1.0000001]\n",
      "\n",
      "\n",
      " Checking distance of ac with the rest ['stepper motor', 'stepper', 'motor', 'ac'] one by one\n",
      "[0.5821877 0.5515305 0.746824  1.       ]\n",
      "\n",
      "\n",
      " max_sim  1.0000001\n",
      "\n",
      "\n",
      "\n",
      "\n",
      "\n",
      "From Specification\n",
      "('synchronous motors output', 0.7045)\n",
      "('synchronous motors', 0.7033)\n",
      "('synchronous', 0.6551)\n",
      "('motors output', 0.6426)\n",
      "('synchronous motors output exceeding', 0.5988)\n",
      "('motors', 0.5981)\n",
      "('output exceeding', 0.5182)\n",
      "\n",
      "\n",
      "From User Description\n",
      "('use', 0.4857)\n",
      "('ac motor industrial use', 0.9578)\n",
      "('ac motor industrial', 0.918)\n",
      "('ac motor', 0.8242)\n",
      "('motor', 0.6969)\n",
      "('ac', 0.6493)\n",
      "('motor industrial', 0.818)\n",
      "\n",
      "\n",
      " Checking distance of use with the rest ['synchronous motors output', 'synchronous motors', 'synchronous', 'motors output', 'synchronous motors output exceeding', 'motors', 'use'] one by one\n",
      "[0.5440457 0.5445708 0.7419822 0.6309953 0.4844073 0.6800448 1.       ]\n",
      "\n",
      "\n",
      " Checking distance of ac motor industrial use with the rest ['synchronous motors output', 'synchronous motors', 'synchronous', 'motors output', 'synchronous motors output exceeding', 'motors', 'ac motor industrial use'] one by one\n",
      "[0.6908336  0.65938663 0.31403053 0.72670805 0.5745827  0.64400184\n",
      " 0.9999999 ]\n",
      "\n",
      "\n",
      " Checking distance of ac motor industrial with the rest ['synchronous motors output', 'synchronous motors', 'synchronous', 'motors output', 'synchronous motors output exceeding', 'motors', 'ac motor industrial'] one by one\n",
      "[0.6984423  0.6790375  0.36644483 0.7284527  0.585323   0.6741377\n",
      " 1.0000002 ]\n",
      "\n",
      "\n",
      " Checking distance of ac motor with the rest ['synchronous motors output', 'synchronous motors', 'synchronous', 'motors output', 'synchronous motors output exceeding', 'motors', 'ac motor'] one by one\n",
      "[0.7180897  0.7111281  0.4471582  0.7679001  0.60497403 0.74439013\n",
      " 1.0000002 ]\n",
      "\n",
      "\n",
      " Checking distance of motor with the rest ['synchronous motors output', 'synchronous motors', 'synchronous', 'motors output', 'synchronous motors output exceeding', 'motors', 'motor'] one by one\n",
      "[0.7451626  0.78255653 0.64664453 0.8712374  0.655836   0.9470626\n",
      " 1.0000002 ]\n",
      "\n",
      "\n",
      " Checking distance of ac with the rest ['synchronous motors output', 'synchronous motors', 'synchronous', 'motors output', 'synchronous motors output exceeding', 'motors', 'ac'] one by one\n",
      "[0.59642774 0.6025666  0.7060639  0.6555984  0.54577494 0.7104609\n",
      " 1.0000001 ]\n",
      "\n",
      "\n",
      " max_sim  0.9470626\n",
      "\n",
      "\n",
      "\n",
      "\n",
      "\n",
      "From Specification\n",
      "('universal ac dc motors', 0.9752)\n",
      "('universal ac dc', 0.8888)\n",
      "('ac dc motors', 0.8411)\n",
      "('dc motors', 0.8052)\n",
      "('universal ac', 0.7904)\n",
      "('ac dc', 0.7648)\n",
      "('motors', 0.6461)\n",
      "\n",
      "\n",
      "From User Description\n",
      "('use', 0.4857)\n",
      "('ac motor industrial use', 0.9578)\n",
      "('ac motor industrial', 0.918)\n",
      "('ac motor', 0.8242)\n",
      "('motor', 0.6969)\n",
      "('ac', 0.6493)\n",
      "('motor industrial', 0.818)\n",
      "\n",
      "\n",
      " Checking distance of use with the rest ['universal ac dc motors', 'universal ac dc', 'ac dc motors', 'dc motors', 'universal ac', 'ac dc', 'use'] one by one\n",
      "[0.42177197 0.5321534  0.4283763  0.5346109  0.70659995 0.5731018\n",
      " 1.        ]\n",
      "\n",
      "\n",
      " Checking distance of ac motor industrial use with the rest ['universal ac dc motors', 'universal ac dc', 'ac dc motors', 'dc motors', 'universal ac', 'ac dc', 'ac motor industrial use'] one by one\n",
      "[0.8315712  0.74221617 0.87303984 0.78350693 0.56333166 0.7936456\n",
      " 0.9999999 ]\n",
      "\n",
      "\n",
      " Checking distance of ac motor industrial with the rest ['universal ac dc motors', 'universal ac dc', 'ac dc motors', 'dc motors', 'universal ac', 'ac dc', 'ac motor industrial'] one by one\n"
     ]
    },
    {
     "name": "stdout",
     "output_type": "stream",
     "text": [
      "[0.8535117  0.78036296 0.87517405 0.79249424 0.6254864  0.8203716\n",
      " 0.99999994]\n",
      "\n",
      "\n",
      " Checking distance of ac motor with the rest ['universal ac dc motors', 'universal ac dc', 'ac dc motors', 'dc motors', 'universal ac', 'ac dc', 'ac motor'] one by one\n",
      "[0.87822783 0.82855254 0.93722457 0.8654847  0.6775107  0.8952814\n",
      " 1.0000002 ]\n",
      "\n",
      "\n",
      " Checking distance of motor with the rest ['universal ac dc motors', 'universal ac dc', 'ac dc motors', 'dc motors', 'universal ac', 'ac dc', 'motor'] one by one\n",
      "[0.60969985 0.582881   0.65923834 0.75814146 0.65156937 0.64417803\n",
      " 1.0000001 ]\n",
      "\n",
      "\n",
      " Checking distance of ac with the rest ['universal ac dc motors', 'universal ac dc', 'ac dc motors', 'dc motors', 'universal ac', 'ac dc', 'ac'] one by one\n",
      "[0.6490892  0.7668103  0.6655805  0.69274926 0.8359896  0.82472265\n",
      " 1.        ]\n",
      "\n",
      "\n",
      " max_sim  0.93722457\n",
      "\n",
      "\n",
      "\n",
      "\n",
      "\n",
      "From Specification\n",
      "('wiper motor', 1.0)\n",
      "('wiper', 0.9343)\n",
      "('motor', 0.7036)\n",
      "\n",
      "\n",
      "From User Description\n",
      "('use', 0.4857)\n",
      "('ac motor industrial use', 0.9578)\n",
      "('ac motor industrial', 0.918)\n",
      "('ac motor', 0.8242)\n",
      "('motor', 0.6969)\n",
      "('ac', 0.6493)\n",
      "('motor industrial', 0.818)\n",
      "\n",
      "\n",
      " Checking distance of use with the rest ['wiper motor', 'wiper', 'motor', 'use'] one by one\n",
      "[0.56181675 0.65175456 0.75525415 1.        ]\n",
      "\n",
      "\n",
      " Checking distance of ac motor industrial use with the rest ['wiper motor', 'wiper', 'motor', 'ac motor industrial use'] one by one\n",
      "[0.5308511  0.3390718  0.59126663 0.9999999 ]\n",
      "\n",
      "\n",
      " Checking distance of ac motor industrial with the rest ['wiper motor', 'wiper', 'motor', 'ac motor industrial'] one by one\n",
      "[0.55916756 0.36794415 0.6326751  0.99999994]\n",
      "\n",
      "\n",
      " Checking distance of ac motor with the rest ['wiper motor', 'wiper', 'motor', 'ac motor'] one by one\n",
      "[0.58049655 0.41314906 0.72345567 1.0000002 ]\n",
      "\n",
      "\n",
      " Checking distance of motor with the rest ['wiper motor', 'wiper', 'motor', 'motor'] one by one\n",
      "[0.7560214  0.61371565 1.0000001  1.0000001 ]\n",
      "\n",
      "\n",
      " Checking distance of ac with the rest ['wiper motor', 'wiper', 'motor', 'ac'] one by one\n",
      "[0.56871283 0.60148776 0.746824   1.        ]\n",
      "\n",
      "\n",
      " max_sim  1.0000001\n",
      "\n",
      "\n",
      "\n"
     ]
    }
   ],
   "source": [
    "df = pd.read_excel(\"Test file-1.xlsx\")\n",
    "query = \"AC Motor for industrial use\"\n",
    "result = semantic_check(query, df)"
   ]
  },
  {
   "cell_type": "code",
   "execution_count": 4,
   "metadata": {
    "ExecuteTime": {
     "end_time": "2021-04-28T07:15:00.715390Z",
     "start_time": "2021-04-28T07:15:00.188749Z"
    }
   },
   "outputs": [
    {
     "data": {
      "text/html": [
       "<div>\n",
       "<style scoped>\n",
       "    .dataframe tbody tr th:only-of-type {\n",
       "        vertical-align: middle;\n",
       "    }\n",
       "\n",
       "    .dataframe tbody tr th {\n",
       "        vertical-align: top;\n",
       "    }\n",
       "\n",
       "    .dataframe thead th {\n",
       "        text-align: right;\n",
       "    }\n",
       "</style>\n",
       "<table border=\"1\" class=\"dataframe\">\n",
       "  <thead>\n",
       "    <tr style=\"text-align: right;\">\n",
       "      <th></th>\n",
       "      <th>S.No</th>\n",
       "      <th>HSN_Code</th>\n",
       "      <th>Description</th>\n",
       "      <th>Unnamed: 3</th>\n",
       "    </tr>\n",
       "  </thead>\n",
       "  <tbody>\n",
       "    <tr>\n",
       "      <th>0</th>\n",
       "      <td>1</td>\n",
       "      <td>8501.10.20</td>\n",
       "      <td>AC motor</td>\n",
       "      <td>Electric motors and generators (excluding gene...</td>\n",
       "    </tr>\n",
       "    <tr>\n",
       "      <th>1</th>\n",
       "      <td>4</td>\n",
       "      <td>8501.10.99</td>\n",
       "      <td>DC motors</td>\n",
       "      <td>Electric motors and generators (excluding gene...</td>\n",
       "    </tr>\n",
       "    <tr>\n",
       "      <th>2</th>\n",
       "      <td>5</td>\n",
       "      <td>8501.10.10</td>\n",
       "      <td>Fan motor fitted with revolving mechanism</td>\n",
       "      <td>Electric motors and generators (excluding gene...</td>\n",
       "    </tr>\n",
       "    <tr>\n",
       "      <th>3</th>\n",
       "      <td>6</td>\n",
       "      <td>8501.10.11</td>\n",
       "      <td>Micro motor</td>\n",
       "      <td>Electric motors and generators (excluding gene...</td>\n",
       "    </tr>\n",
       "    <tr>\n",
       "      <th>4</th>\n",
       "      <td>7</td>\n",
       "      <td>8501.10.00</td>\n",
       "      <td>Motors  of  an  output  not  exceeding  37.5  ...</td>\n",
       "      <td>Electric motors and generators (excluding gene...</td>\n",
       "    </tr>\n",
       "    <tr>\n",
       "      <th>5</th>\n",
       "      <td>8</td>\n",
       "      <td>8501.10.00</td>\n",
       "      <td>Motors  of an output  not exceeding  37.5  W</td>\n",
       "      <td>Electric motors and generators (excluding gene...</td>\n",
       "    </tr>\n",
       "    <tr>\n",
       "      <th>6</th>\n",
       "      <td>9</td>\n",
       "      <td>8501.10.90.00</td>\n",
       "      <td>Motors For Other Than Vehicles Of An Output =&lt;...</td>\n",
       "      <td>Electric motors and generators (excluding gene...</td>\n",
       "    </tr>\n",
       "    <tr>\n",
       "      <th>7</th>\n",
       "      <td>10</td>\n",
       "      <td>8501.10.10.00</td>\n",
       "      <td>Motors For Vehicles Of An Output =&lt; 37.5W</td>\n",
       "      <td>Electric motors and generators (excluding gene...</td>\n",
       "    </tr>\n",
       "    <tr>\n",
       "      <th>8</th>\n",
       "      <td>11</td>\n",
       "      <td>8501.10.00</td>\n",
       "      <td>Motors of an output not</td>\n",
       "      <td>Electric motors and generators (excluding gene...</td>\n",
       "    </tr>\n",
       "    <tr>\n",
       "      <th>9</th>\n",
       "      <td>12</td>\n",
       "      <td>8501.10.00</td>\n",
       "      <td>Motors of an output not exceeding  37.5 W</td>\n",
       "      <td>Electric motors and generators (excluding gene...</td>\n",
       "    </tr>\n",
       "    <tr>\n",
       "      <th>10</th>\n",
       "      <td>18</td>\n",
       "      <td>8501.10.21</td>\n",
       "      <td>Of a kind used for the goods of heading 84.15,...</td>\n",
       "      <td>Electric motors and generators (excluding gene...</td>\n",
       "    </tr>\n",
       "    <tr>\n",
       "      <th>11</th>\n",
       "      <td>28</td>\n",
       "      <td>8501.10.22</td>\n",
       "      <td>Other, of an output not exceeding 5 W</td>\n",
       "      <td>Electric motors and generators (excluding gene...</td>\n",
       "    </tr>\n",
       "    <tr>\n",
       "      <th>12</th>\n",
       "      <td>32</td>\n",
       "      <td>8501.10.92</td>\n",
       "      <td>Spindle motors</td>\n",
       "      <td>Electric motors and generators (excluding gene...</td>\n",
       "    </tr>\n",
       "    <tr>\n",
       "      <th>13</th>\n",
       "      <td>33</td>\n",
       "      <td>8501.10.12</td>\n",
       "      <td>Stepper motor</td>\n",
       "      <td>Electric motors and generators (excluding gene...</td>\n",
       "    </tr>\n",
       "    <tr>\n",
       "      <th>14</th>\n",
       "      <td>36</td>\n",
       "      <td>8501.10.10</td>\n",
       "      <td>Synchronous motors of an output not exceeding</td>\n",
       "      <td>Electric motors and generators (excluding gene...</td>\n",
       "    </tr>\n",
       "    <tr>\n",
       "      <th>15</th>\n",
       "      <td>37</td>\n",
       "      <td>8501.10.91</td>\n",
       "      <td>Universal AC/DC motors</td>\n",
       "      <td>Electric motors and generators (excluding gene...</td>\n",
       "    </tr>\n",
       "    <tr>\n",
       "      <th>16</th>\n",
       "      <td>38</td>\n",
       "      <td>8501.10.13</td>\n",
       "      <td>Wiper motor</td>\n",
       "      <td>Electric motors and generators (excluding gene...</td>\n",
       "    </tr>\n",
       "  </tbody>\n",
       "</table>\n",
       "</div>"
      ],
      "text/plain": [
       "    S.No       HSN_Code                                        Description  \\\n",
       "0      1     8501.10.20                                           AC motor   \n",
       "1      4     8501.10.99                                          DC motors   \n",
       "2      5     8501.10.10          Fan motor fitted with revolving mechanism   \n",
       "3      6     8501.10.11                                        Micro motor   \n",
       "4      7     8501.10.00  Motors  of  an  output  not  exceeding  37.5  ...   \n",
       "5      8     8501.10.00      Motors  of an output  not exceeding  37.5  W    \n",
       "6      9  8501.10.90.00  Motors For Other Than Vehicles Of An Output =<...   \n",
       "7     10  8501.10.10.00          Motors For Vehicles Of An Output =< 37.5W   \n",
       "8     11     8501.10.00                            Motors of an output not   \n",
       "9     12     8501.10.00        Motors of an output not exceeding  37.5 W     \n",
       "10    18     8501.10.21  Of a kind used for the goods of heading 84.15,...   \n",
       "11    28     8501.10.22              Other, of an output not exceeding 5 W   \n",
       "12    32     8501.10.92                                     Spindle motors   \n",
       "13    33     8501.10.12                                      Stepper motor   \n",
       "14    36     8501.10.10      Synchronous motors of an output not exceeding   \n",
       "15    37     8501.10.91                             Universal AC/DC motors   \n",
       "16    38     8501.10.13                                        Wiper motor   \n",
       "\n",
       "                                           Unnamed: 3  \n",
       "0   Electric motors and generators (excluding gene...  \n",
       "1   Electric motors and generators (excluding gene...  \n",
       "2   Electric motors and generators (excluding gene...  \n",
       "3   Electric motors and generators (excluding gene...  \n",
       "4   Electric motors and generators (excluding gene...  \n",
       "5   Electric motors and generators (excluding gene...  \n",
       "6   Electric motors and generators (excluding gene...  \n",
       "7   Electric motors and generators (excluding gene...  \n",
       "8   Electric motors and generators (excluding gene...  \n",
       "9   Electric motors and generators (excluding gene...  \n",
       "10  Electric motors and generators (excluding gene...  \n",
       "11  Electric motors and generators (excluding gene...  \n",
       "12  Electric motors and generators (excluding gene...  \n",
       "13  Electric motors and generators (excluding gene...  \n",
       "14  Electric motors and generators (excluding gene...  \n",
       "15  Electric motors and generators (excluding gene...  \n",
       "16  Electric motors and generators (excluding gene...  "
      ]
     },
     "execution_count": 4,
     "metadata": {},
     "output_type": "execute_result"
    }
   ],
   "source": [
    "df.head(50)"
   ]
  },
  {
   "cell_type": "code",
   "execution_count": 5,
   "metadata": {
    "ExecuteTime": {
     "end_time": "2021-04-28T07:15:00.721367Z",
     "start_time": "2021-04-28T07:15:00.717379Z"
    }
   },
   "outputs": [],
   "source": [
    "# Works after preprocessing the text like bracket removal and all\n",
    "\n",
    "def keep_unique(mystring):\n",
    "\n",
    "    words = mystring.split()\n",
    "\n",
    "    answer = [each_pair[0] for each_pair in zip(words, words[1:]) if each_pair[0] != each_pair[1]] + [words[-1]]\n",
    "\n",
    "    print(' '.join(answer))"
   ]
  },
  {
   "cell_type": "code",
   "execution_count": 6,
   "metadata": {
    "ExecuteTime": {
     "end_time": "2021-04-28T07:15:00.728350Z",
     "start_time": "2021-04-28T07:15:00.723362Z"
    }
   },
   "outputs": [],
   "source": [
    "import nltk\n",
    "w_tokenizer = nltk.tokenize.WhitespaceTokenizer()\n",
    "from nltk.stem import WordNetLemmatizer"
   ]
  },
  {
   "cell_type": "code",
   "execution_count": 7,
   "metadata": {
    "ExecuteTime": {
     "end_time": "2021-04-28T07:15:00.736329Z",
     "start_time": "2021-04-28T07:15:00.731343Z"
    }
   },
   "outputs": [],
   "source": [
    "lemmatizer = WordNetLemmatizer()"
   ]
  },
  {
   "cell_type": "code",
   "execution_count": 8,
   "metadata": {
    "ExecuteTime": {
     "end_time": "2021-04-28T07:15:00.746303Z",
     "start_time": "2021-04-28T07:15:00.738324Z"
    }
   },
   "outputs": [],
   "source": [
    "from nltk.stem.snowball import SnowballStemmer\n",
    "stemmer = SnowballStemmer(\"english\")"
   ]
  },
  {
   "cell_type": "code",
   "execution_count": 9,
   "metadata": {
    "ExecuteTime": {
     "end_time": "2021-04-28T07:15:00.756307Z",
     "start_time": "2021-04-28T07:15:00.749301Z"
    }
   },
   "outputs": [],
   "source": [
    "def stem_lemmatize_text(text):\n",
    "    text = text.lower()\n",
    "    l = [stemmer.stem(w) for w in w_tokenizer.tokenize(text)]\n",
    "    ls =  [lemmatizer.lemmatize(w) for w in l]\n",
    "    listToStr = ' '.join([str(elem) for elem in ls])\n",
    "    return listToStr"
   ]
  },
  {
   "cell_type": "code",
   "execution_count": 10,
   "metadata": {
    "ExecuteTime": {
     "end_time": "2021-04-28T07:15:02.461690Z",
     "start_time": "2021-04-28T07:15:00.758270Z"
    }
   },
   "outputs": [],
   "source": [
    "df['Des_lemmatized'] = df.Description.apply(stem_lemmatize_text)"
   ]
  },
  {
   "cell_type": "code",
   "execution_count": 11,
   "metadata": {
    "ExecuteTime": {
     "end_time": "2021-04-28T07:15:02.475437Z",
     "start_time": "2021-04-28T07:15:02.466462Z"
    }
   },
   "outputs": [
    {
     "data": {
      "text/plain": [
       "0                                ac motor\n",
       "1                                dc motor\n",
       "2        fan motor fit with revolv mechan\n",
       "3                             micro motor\n",
       "4    motor of an output not exceed 37.5 w\n",
       "Name: Des_lemmatized, dtype: object"
      ]
     },
     "execution_count": 11,
     "metadata": {},
     "output_type": "execute_result"
    }
   ],
   "source": [
    "df['Des_lemmatized'].head()"
   ]
  },
  {
   "cell_type": "code",
   "execution_count": 12,
   "metadata": {
    "ExecuteTime": {
     "end_time": "2021-04-28T07:15:02.518323Z",
     "start_time": "2021-04-28T07:15:02.480423Z"
    }
   },
   "outputs": [],
   "source": [
    "res  = []"
   ]
  },
  {
   "cell_type": "code",
   "execution_count": 13,
   "metadata": {
    "ExecuteTime": {
     "end_time": "2021-04-28T07:15:02.529299Z",
     "start_time": "2021-04-28T07:15:02.521311Z"
    }
   },
   "outputs": [],
   "source": [
    "def jaccard_sim(query):\n",
    "    res = []\n",
    "    for i in df['Des_lemmatized']:\n",
    "        q = stem_lemmatize_text(query)\n",
    "        li = i.split()\n",
    "        lq = q.split()\n",
    "        s1 = set(li)\n",
    "        s2 = set(lq)\n",
    "        res.append(float(len(s1.intersection(s2)) / 5))\n",
    "    return res"
   ]
  },
  {
   "cell_type": "code",
   "execution_count": 14,
   "metadata": {
    "ExecuteTime": {
     "end_time": "2021-04-28T07:15:02.558240Z",
     "start_time": "2021-04-28T07:15:02.534277Z"
    }
   },
   "outputs": [
    {
     "data": {
      "text/plain": [
       "[0.4,\n",
       " 0.2,\n",
       " 0.6,\n",
       " 0.2,\n",
       " 0.2,\n",
       " 0.2,\n",
       " 0.2,\n",
       " 0.2,\n",
       " 0.2,\n",
       " 0.2,\n",
       " 0.0,\n",
       " 0.0,\n",
       " 0.2,\n",
       " 0.2,\n",
       " 0.2,\n",
       " 0.2,\n",
       " 0.2]"
      ]
     },
     "execution_count": 14,
     "metadata": {},
     "output_type": "execute_result"
    }
   ],
   "source": [
    "jaccard_sim(\"ac fan motor revolv\")"
   ]
  },
  {
   "cell_type": "code",
   "execution_count": 15,
   "metadata": {
    "ExecuteTime": {
     "end_time": "2021-04-28T07:15:02.570213Z",
     "start_time": "2021-04-28T07:15:02.560209Z"
    }
   },
   "outputs": [],
   "source": [
    "from sklearn.feature_extraction.text import TfidfVectorizer"
   ]
  },
  {
   "cell_type": "code",
   "execution_count": 16,
   "metadata": {
    "ExecuteTime": {
     "end_time": "2021-04-28T07:15:04.322850Z",
     "start_time": "2021-04-28T07:15:02.572207Z"
    }
   },
   "outputs": [],
   "source": [
    "import texthero as hero\n",
    "df['tfidf'] = hero.do_tfidf(df['Des_lemmatized'])"
   ]
  },
  {
   "cell_type": "code",
   "execution_count": 17,
   "metadata": {
    "ExecuteTime": {
     "end_time": "2021-04-28T07:15:04.328838Z",
     "start_time": "2021-04-28T07:15:04.324863Z"
    }
   },
   "outputs": [
    {
     "data": {
      "text/plain": [
       "[0.0,\n",
       " 0.0,\n",
       " 0.0,\n",
       " 0.0,\n",
       " 0.0,\n",
       " 0.0,\n",
       " 0.0,\n",
       " 0.0,\n",
       " 0.0,\n",
       " 0.9283528855987047,\n",
       " 0.0,\n",
       " 0.0,\n",
       " 0.0,\n",
       " 0.0,\n",
       " 0.0,\n",
       " 0.0,\n",
       " 0.0,\n",
       " 0.0,\n",
       " 0.0,\n",
       " 0.0,\n",
       " 0.0,\n",
       " 0.37170004008684004,\n",
       " 0.0,\n",
       " 0.0,\n",
       " 0.0,\n",
       " 0.0,\n",
       " 0.0,\n",
       " 0.0,\n",
       " 0.0,\n",
       " 0.0,\n",
       " 0.0,\n",
       " 0.0,\n",
       " 0.0,\n",
       " 0.0,\n",
       " 0.0,\n",
       " 0.0,\n",
       " 0.0,\n",
       " 0.0]"
      ]
     },
     "execution_count": 17,
     "metadata": {},
     "output_type": "execute_result"
    }
   ],
   "source": [
    "df['tfidf'][0]"
   ]
  },
  {
   "cell_type": "markdown",
   "metadata": {},
   "source": [
    "# idf lookup list"
   ]
  },
  {
   "cell_type": "code",
   "execution_count": 18,
   "metadata": {
    "ExecuteTime": {
     "end_time": "2021-04-28T07:15:04.365736Z",
     "start_time": "2021-04-28T07:15:04.331830Z"
    }
   },
   "outputs": [],
   "source": [
    "tf = TfidfVectorizer(use_idf=True)\n",
    "tf.fit_transform(df['Des_lemmatized'])\n",
    "\n",
    "idf = tf.idf_ "
   ]
  },
  {
   "cell_type": "code",
   "execution_count": 19,
   "metadata": {
    "ExecuteTime": {
     "end_time": "2021-04-28T07:15:04.378709Z",
     "start_time": "2021-04-28T07:15:04.367764Z"
    }
   },
   "outputs": [
    {
     "name": "stdout",
     "output_type": "stream",
     "text": [
      "[3.19722458 3.19722458 3.19722458 3.19722458 2.09861229 3.19722458\n",
      " 2.79175947 3.19722458 3.19722458 2.79175947 1.69314718 2.79175947\n",
      " 2.09861229 3.19722458 3.19722458 2.5040774  3.19722458 3.19722458\n",
      " 3.19722458 3.19722458 3.19722458 1.11778304 1.94446161 1.58778666\n",
      " 3.19722458 2.79175947 1.69314718 3.19722458 3.19722458 3.19722458\n",
      " 3.19722458 3.19722458 3.19722458 3.19722458 3.19722458 2.79175947\n",
      " 3.19722458 3.19722458]\n"
     ]
    }
   ],
   "source": [
    "print(idf)"
   ]
  },
  {
   "cell_type": "code",
   "execution_count": 20,
   "metadata": {
    "ExecuteTime": {
     "end_time": "2021-04-28T07:15:04.388676Z",
     "start_time": "2021-04-28T07:15:04.383690Z"
    }
   },
   "outputs": [
    {
     "data": {
      "text/plain": [
       "1.1177830356563834"
      ]
     },
     "execution_count": 20,
     "metadata": {},
     "output_type": "execute_result"
    }
   ],
   "source": [
    "tf.idf_[tf.vocabulary_[\"motor\"]]"
   ]
  },
  {
   "cell_type": "markdown",
   "metadata": {},
   "source": [
    "# Create query idf Vector"
   ]
  },
  {
   "cell_type": "code",
   "execution_count": 21,
   "metadata": {
    "ExecuteTime": {
     "end_time": "2021-04-28T07:15:04.399645Z",
     "start_time": "2021-04-28T07:15:04.390669Z"
    }
   },
   "outputs": [],
   "source": [
    "def create_query_idf_vector(query):\n",
    "    idf_v = []\n",
    "    l = query.split()\n",
    "    for q in l:\n",
    "        idf_v.append(tf.idf_[tf.vocabulary_[q]])\n",
    "    return idf_v"
   ]
  },
  {
   "cell_type": "code",
   "execution_count": 22,
   "metadata": {
    "ExecuteTime": {
     "end_time": "2021-04-28T07:15:04.409620Z",
     "start_time": "2021-04-28T07:15:04.401639Z"
    }
   },
   "outputs": [],
   "source": [
    "q = create_query_idf_vector(\"fan motor\")"
   ]
  },
  {
   "cell_type": "code",
   "execution_count": 23,
   "metadata": {
    "ExecuteTime": {
     "end_time": "2021-04-28T07:15:04.424582Z",
     "start_time": "2021-04-28T07:15:04.412614Z"
    }
   },
   "outputs": [
    {
     "name": "stdout",
     "output_type": "stream",
     "text": [
      "[3.1972245773362196, 1.1177830356563834]\n"
     ]
    }
   ],
   "source": [
    "print(q)"
   ]
  },
  {
   "cell_type": "code",
   "execution_count": 24,
   "metadata": {
    "ExecuteTime": {
     "end_time": "2021-04-28T07:15:04.443537Z",
     "start_time": "2021-04-28T07:15:04.425577Z"
    }
   },
   "outputs": [],
   "source": [
    "js = jaccard_sim(\"fan motor\")"
   ]
  },
  {
   "cell_type": "code",
   "execution_count": 25,
   "metadata": {
    "ExecuteTime": {
     "end_time": "2021-04-28T07:15:04.484452Z",
     "start_time": "2021-04-28T07:15:04.448516Z"
    }
   },
   "outputs": [
    {
     "data": {
      "text/html": [
       "<div>\n",
       "<style scoped>\n",
       "    .dataframe tbody tr th:only-of-type {\n",
       "        vertical-align: middle;\n",
       "    }\n",
       "\n",
       "    .dataframe tbody tr th {\n",
       "        vertical-align: top;\n",
       "    }\n",
       "\n",
       "    .dataframe thead th {\n",
       "        text-align: right;\n",
       "    }\n",
       "</style>\n",
       "<table border=\"1\" class=\"dataframe\">\n",
       "  <thead>\n",
       "    <tr style=\"text-align: right;\">\n",
       "      <th></th>\n",
       "      <th>S.No</th>\n",
       "      <th>HSN_Code</th>\n",
       "      <th>Description</th>\n",
       "      <th>Unnamed: 3</th>\n",
       "      <th>Des_lemmatized</th>\n",
       "      <th>tfidf</th>\n",
       "    </tr>\n",
       "  </thead>\n",
       "  <tbody>\n",
       "    <tr>\n",
       "      <th>0</th>\n",
       "      <td>1</td>\n",
       "      <td>8501.10.20</td>\n",
       "      <td>AC motor</td>\n",
       "      <td>Electric motors and generators (excluding gene...</td>\n",
       "      <td>ac motor</td>\n",
       "      <td>[0.0, 0.0, 0.0, 0.0, 0.0, 0.0, 0.0, 0.0, 0.0, ...</td>\n",
       "    </tr>\n",
       "    <tr>\n",
       "      <th>1</th>\n",
       "      <td>4</td>\n",
       "      <td>8501.10.99</td>\n",
       "      <td>DC motors</td>\n",
       "      <td>Electric motors and generators (excluding gene...</td>\n",
       "      <td>dc motor</td>\n",
       "      <td>[0.0, 0.0, 0.0, 0.0, 0.0, 0.0, 0.0, 0.0, 0.0, ...</td>\n",
       "    </tr>\n",
       "    <tr>\n",
       "      <th>2</th>\n",
       "      <td>5</td>\n",
       "      <td>8501.10.10</td>\n",
       "      <td>Fan motor fitted with revolving mechanism</td>\n",
       "      <td>Electric motors and generators (excluding gene...</td>\n",
       "      <td>fan motor fit with revolv mechan</td>\n",
       "      <td>[0.0, 0.0, 0.0, 0.0, 0.0, 0.0, 0.0, 0.0, 0.0, ...</td>\n",
       "    </tr>\n",
       "    <tr>\n",
       "      <th>3</th>\n",
       "      <td>6</td>\n",
       "      <td>8501.10.11</td>\n",
       "      <td>Micro motor</td>\n",
       "      <td>Electric motors and generators (excluding gene...</td>\n",
       "      <td>micro motor</td>\n",
       "      <td>[0.0, 0.0, 0.0, 0.0, 0.0, 0.0, 0.0, 0.0, 0.0, ...</td>\n",
       "    </tr>\n",
       "    <tr>\n",
       "      <th>4</th>\n",
       "      <td>7</td>\n",
       "      <td>8501.10.00</td>\n",
       "      <td>Motors  of  an  output  not  exceeding  37.5  ...</td>\n",
       "      <td>Electric motors and generators (excluding gene...</td>\n",
       "      <td>motor of an output not exceed 37.5 w</td>\n",
       "      <td>[0.0, 0.0, 0.0, 0.0, 0.44648012504229373, 0.0,...</td>\n",
       "    </tr>\n",
       "  </tbody>\n",
       "</table>\n",
       "</div>"
      ],
      "text/plain": [
       "   S.No    HSN_Code                                        Description  \\\n",
       "0     1  8501.10.20                                           AC motor   \n",
       "1     4  8501.10.99                                          DC motors   \n",
       "2     5  8501.10.10          Fan motor fitted with revolving mechanism   \n",
       "3     6  8501.10.11                                        Micro motor   \n",
       "4     7  8501.10.00  Motors  of  an  output  not  exceeding  37.5  ...   \n",
       "\n",
       "                                          Unnamed: 3  \\\n",
       "0  Electric motors and generators (excluding gene...   \n",
       "1  Electric motors and generators (excluding gene...   \n",
       "2  Electric motors and generators (excluding gene...   \n",
       "3  Electric motors and generators (excluding gene...   \n",
       "4  Electric motors and generators (excluding gene...   \n",
       "\n",
       "                         Des_lemmatized  \\\n",
       "0                              ac motor   \n",
       "1                              dc motor   \n",
       "2      fan motor fit with revolv mechan   \n",
       "3                           micro motor   \n",
       "4  motor of an output not exceed 37.5 w   \n",
       "\n",
       "                                               tfidf  \n",
       "0  [0.0, 0.0, 0.0, 0.0, 0.0, 0.0, 0.0, 0.0, 0.0, ...  \n",
       "1  [0.0, 0.0, 0.0, 0.0, 0.0, 0.0, 0.0, 0.0, 0.0, ...  \n",
       "2  [0.0, 0.0, 0.0, 0.0, 0.0, 0.0, 0.0, 0.0, 0.0, ...  \n",
       "3  [0.0, 0.0, 0.0, 0.0, 0.0, 0.0, 0.0, 0.0, 0.0, ...  \n",
       "4  [0.0, 0.0, 0.0, 0.0, 0.44648012504229373, 0.0,...  "
      ]
     },
     "execution_count": 25,
     "metadata": {},
     "output_type": "execute_result"
    }
   ],
   "source": [
    "df.head()"
   ]
  },
  {
   "cell_type": "code",
   "execution_count": 26,
   "metadata": {
    "ExecuteTime": {
     "end_time": "2021-04-28T07:15:04.492398Z",
     "start_time": "2021-04-28T07:15:04.487411Z"
    }
   },
   "outputs": [
    {
     "name": "stdout",
     "output_type": "stream",
     "text": [
      "[0.2, 0.2, 0.4, 0.2, 0.2, 0.2, 0.2, 0.2, 0.2, 0.2, 0.0, 0.0, 0.2, 0.2, 0.2, 0.2, 0.2]\n"
     ]
    }
   ],
   "source": [
    "print(js)"
   ]
  },
  {
   "cell_type": "code",
   "execution_count": 27,
   "metadata": {
    "ExecuteTime": {
     "end_time": "2021-04-28T07:15:04.503380Z",
     "start_time": "2021-04-28T07:15:04.494428Z"
    }
   },
   "outputs": [],
   "source": [
    "def prod(qs,j):\n",
    "    res = []\n",
    "    for i in j:\n",
    "        ls = [i*x for x in qs]\n",
    "        res.append(ls)\n",
    "    return res"
   ]
  },
  {
   "cell_type": "code",
   "execution_count": 28,
   "metadata": {
    "ExecuteTime": {
     "end_time": "2021-04-28T07:15:04.526342Z",
     "start_time": "2021-04-28T07:15:04.505365Z"
    }
   },
   "outputs": [],
   "source": [
    "res = prod(q,js)"
   ]
  },
  {
   "cell_type": "code",
   "execution_count": 29,
   "metadata": {
    "ExecuteTime": {
     "end_time": "2021-04-28T07:15:04.537277Z",
     "start_time": "2021-04-28T07:15:04.527340Z"
    }
   },
   "outputs": [
    {
     "data": {
      "text/plain": [
       "[0.6394449154672439, 0.22355660713127667]"
      ]
     },
     "execution_count": 29,
     "metadata": {},
     "output_type": "execute_result"
    }
   ],
   "source": [
    "res[0]"
   ]
  },
  {
   "cell_type": "code",
   "execution_count": 30,
   "metadata": {
    "ExecuteTime": {
     "end_time": "2021-04-28T07:15:04.546255Z",
     "start_time": "2021-04-28T07:15:04.539271Z"
    }
   },
   "outputs": [],
   "source": [
    "\n",
    "import numpy as np\n",
    "def mag(res):\n",
    "    r = []\n",
    "    for i in res:\n",
    "        x = np.array(i)\n",
    "        ans= np.linalg.norm(i)\n",
    "        r.append(ans)\n",
    "    return r\n",
    "        \n"
   ]
  },
  {
   "cell_type": "code",
   "execution_count": 31,
   "metadata": {
    "ExecuteTime": {
     "end_time": "2021-04-28T07:15:04.584185Z",
     "start_time": "2021-04-28T07:15:04.551243Z"
    }
   },
   "outputs": [],
   "source": [
    "r = mag(res)"
   ]
  },
  {
   "cell_type": "code",
   "execution_count": 32,
   "metadata": {
    "ExecuteTime": {
     "end_time": "2021-04-28T07:15:04.589141Z",
     "start_time": "2021-04-28T07:15:04.585185Z"
    }
   },
   "outputs": [
    {
     "name": "stdout",
     "output_type": "stream",
     "text": [
      "[0.6773974878230349, 0.6773974878230349, 1.3547949756460698, 0.6773974878230349, 0.6773974878230349, 0.6773974878230349, 0.6773974878230349, 0.6773974878230349, 0.6773974878230349, 0.6773974878230349, 0.0, 0.0, 0.6773974878230349, 0.6773974878230349, 0.6773974878230349, 0.6773974878230349, 0.6773974878230349]\n"
     ]
    }
   ],
   "source": [
    "print(r)"
   ]
  },
  {
   "cell_type": "code",
   "execution_count": 33,
   "metadata": {
    "ExecuteTime": {
     "end_time": "2021-04-28T07:15:04.602132Z",
     "start_time": "2021-04-28T07:15:04.591135Z"
    }
   },
   "outputs": [],
   "source": [
    "from re import sub"
   ]
  },
  {
   "cell_type": "code",
   "execution_count": 34,
   "metadata": {
    "ExecuteTime": {
     "end_time": "2021-04-28T07:15:06.471129Z",
     "start_time": "2021-04-28T07:15:04.604101Z"
    }
   },
   "outputs": [],
   "source": [
    "from gensim.utils import simple_preprocess\n",
    "\n",
    "query_string = 'fruit and vegetables'\n",
    "documents = ['cars drive on the road', 'tomatoes are actually fruit']\n",
    "\n",
    "stopwords = ['the', 'and', 'are', 'a']\n",
    "\n",
    "\n",
    "def preprocess(doc):\n",
    "    # Tokenize, clean up input document string\n",
    "    doc = sub(r'<img[^<>]+(>|$)', \" image_token \", doc)\n",
    "    doc = sub(r'<[^<>]+(>|$)', \" \", doc)\n",
    "    doc = sub(r'\\[img_assist[^]]*?\\]', \" \", doc)\n",
    "    doc = sub(r'http[s]?://(?:[a-zA-Z]|[0-9]|[$-_@.&+]|[!*\\(\\),]|(?:%[0-9a-fA-F][0-9a-fA-F]))+', \" url_token \", doc)\n",
    "    return [token for token in simple_preprocess(doc, min_len=0, max_len=float(\"inf\")) if token not in stopwords]\n",
    "\n",
    "# Preprocess the documents, including the query string\n",
    "corpus = [preprocess(document) for document in documents]\n",
    "query = preprocess(query_string)\n"
   ]
  },
  {
   "cell_type": "code",
   "execution_count": 35,
   "metadata": {
    "ExecuteTime": {
     "end_time": "2021-04-28T07:15:06.719986Z",
     "start_time": "2021-04-28T07:15:06.472112Z"
    }
   },
   "outputs": [
    {
     "ename": "ImportError",
     "evalue": "cannot import name 'WordEmbeddingSimilarityIndex' from 'gensim.models' (D:\\Anaconda\\lib\\site-packages\\gensim\\models\\__init__.py)",
     "output_type": "error",
     "traceback": [
      "\u001b[1;31m---------------------------------------------------------------------------\u001b[0m",
      "\u001b[1;31mImportError\u001b[0m                               Traceback (most recent call last)",
      "\u001b[1;32m<ipython-input-35-45a4fbb974c2>\u001b[0m in \u001b[0;36m<module>\u001b[1;34m()\u001b[0m\n\u001b[0;32m      2\u001b[0m \u001b[1;32mfrom\u001b[0m \u001b[0mgensim\u001b[0m\u001b[1;33m.\u001b[0m\u001b[0mcorpora\u001b[0m \u001b[1;32mimport\u001b[0m \u001b[0mDictionary\u001b[0m\u001b[1;33m\u001b[0m\u001b[0m\n\u001b[0;32m      3\u001b[0m \u001b[1;32mfrom\u001b[0m \u001b[0mgensim\u001b[0m\u001b[1;33m.\u001b[0m\u001b[0mmodels\u001b[0m \u001b[1;32mimport\u001b[0m \u001b[0mTfidfModel\u001b[0m\u001b[1;33m\u001b[0m\u001b[0m\n\u001b[1;32m----> 4\u001b[1;33m \u001b[1;32mfrom\u001b[0m \u001b[0mgensim\u001b[0m\u001b[1;33m.\u001b[0m\u001b[0mmodels\u001b[0m \u001b[1;32mimport\u001b[0m \u001b[0mWordEmbeddingSimilarityIndex\u001b[0m\u001b[1;33m\u001b[0m\u001b[0m\n\u001b[0m\u001b[0;32m      5\u001b[0m \u001b[1;32mfrom\u001b[0m \u001b[0mgensim\u001b[0m\u001b[1;33m.\u001b[0m\u001b[0msimilarities\u001b[0m \u001b[1;32mimport\u001b[0m \u001b[0mSparseTermSimilarityMatrix\u001b[0m\u001b[1;33m\u001b[0m\u001b[0m\n\u001b[0;32m      6\u001b[0m \u001b[1;32mfrom\u001b[0m \u001b[0mgensim\u001b[0m\u001b[1;33m.\u001b[0m\u001b[0msimilarities\u001b[0m \u001b[1;32mimport\u001b[0m \u001b[0mSoftCosineSimilarity\u001b[0m\u001b[1;33m\u001b[0m\u001b[0m\n",
      "\u001b[1;31mImportError\u001b[0m: cannot import name 'WordEmbeddingSimilarityIndex' from 'gensim.models' (D:\\Anaconda\\lib\\site-packages\\gensim\\models\\__init__.py)"
     ]
    }
   ],
   "source": [
    "import gensim.downloader as api\n",
    "from gensim.corpora import Dictionary\n",
    "from gensim.models import TfidfModel\n",
    "from gensim.models import WordEmbeddingSimilarityIndex\n",
    "from gensim.similarities import SparseTermSimilarityMatrix\n",
    "from gensim.similarities import SoftCosineSimilarity\n",
    "\n",
    "# Load the model: this is a big file, can take a while to download and open\n",
    "glove = api.load(\"glove-wiki-gigaword-50\")    \n",
    "similarity_index = WordEmbeddingSimilarityIndex(glove)\n",
    "\n",
    "# Build the term dictionary, TF-idf model\n",
    "dictionary = Dictionary(corpus+[query])\n",
    "tfidf = TfidfModel(dictionary=dictionary)\n",
    "\n",
    "# Create the term similarity matrix.  \n",
    "similarity_matrix = SparseTermSimilarityMatrix(similarity_index, dictionary, tfidf)"
   ]
  },
  {
   "cell_type": "code",
   "execution_count": null,
   "metadata": {
    "ExecuteTime": {
     "end_time": "2021-04-28T07:15:06.719986Z",
     "start_time": "2021-04-28T07:14:03.780Z"
    }
   },
   "outputs": [],
   "source": [
    "# Compute Soft Cosine Measure between the query and the documents.\n",
    "# From: https://github.com/RaRe-Technologies/gensim/blob/develop/docs/notebooks/soft_cosine_tutorial.ipynb\n",
    "query_tf = tfidf[dictionary.doc2bow(query)]\n",
    "\n",
    "index = SoftCosineSimilarity(\n",
    "            tfidf[[dictionary.doc2bow(document) for document in corpus]],\n",
    "            similarity_matrix)\n",
    "\n",
    "doc_similarity_scores = index[query_tf]\n",
    "\n",
    "# Output the sorted similarity scores and documents\n",
    "sorted_indexes = np.argsort(doc_similarity_scores)[::-1]\n",
    "for idx in sorted_indexes:\n",
    "    print(f'{idx} \\t {doc_similarity_scores[idx]:0.3f} \\t {documents[idx]}')\n"
   ]
  },
  {
   "cell_type": "code",
   "execution_count": null,
   "metadata": {
    "ExecuteTime": {
     "end_time": "2021-04-28T07:15:06.729962Z",
     "start_time": "2021-04-28T07:14:03.954Z"
    }
   },
   "outputs": [],
   "source": [
    "import gensim\n",
    "from gensim import corpora\n",
    "import math\n",
    "\n",
    "class BM25 :\n",
    "    def __init__(self, fn_docs, delimiter='|') :\n",
    "        self.dictionary = corpora.Dictionary()\n",
    "        self.DF = {}\n",
    "        self.delimiter = delimiter\n",
    "        self.DocTF = []\n",
    "        self.DocIDF = {}\n",
    "        self.N = 0\n",
    "        self.DocAvgLen = 0\n",
    "        self.fn_docs = fn_docs\n",
    "        self.DocLen = []\n",
    "        self.buildDictionary()\n",
    "        self.TFIDF_Generator()\n",
    "\n",
    "    def buildDictionary(self) :\n",
    "        raw_data = []\n",
    "        for line in file(self.fn_docs) :\n",
    "            raw_data.append(line.strip().split(self.delimiter))\n",
    "        self.dictionary.add_documents(raw_data)\n",
    "\n",
    "    def TFIDF_Generator(self, base=math.e) :\n",
    "        docTotalLen = 0\n",
    "        for line in file(self.fn_docs) :\n",
    "            doc = line.strip().split(self.delimiter)\n",
    "            docTotalLen += len(doc)\n",
    "            self.DocLen.append(len(doc))\n",
    "            #print self.dictionary.doc2bow(doc)\n",
    "            bow = dict([(term, freq*1.0/len(doc)) for term, freq in self.dictionary.doc2bow(doc)])\n",
    "            for term, tf in bow.items() :\n",
    "                if term not in self.DF :\n",
    "                    self.DF[term] = 0\n",
    "                self.DF[term] += 1\n",
    "            self.DocTF.append(bow)\n",
    "            self.N = self.N + 1\n",
    "        for term in self.DF:\n",
    "            self.DocIDF[term] = math.log((self.N - self.DF[term] +0.5) / (self.DF[term] + 0.5), base)\n",
    "        self.DocAvgLen = docTotalLen / self.N\n",
    "\n",
    "    def BM25Score(self, Query=[], k1=1.5, b=0.75) :\n",
    "        query_bow = self.dictionary.doc2bow(Query)\n",
    "        scores = []\n",
    "        for idx, doc in enumerate(self.DocTF) :\n",
    "            commonTerms = set(dict(query_bow).keys()) & set(doc.keys())\n",
    "            tmp_score = []\n",
    "            doc_terms_len = self.DocLen[idx]\n",
    "            for term in commonTerms :\n",
    "                upper = (doc[term] * (k1+1))\n",
    "                below = ((doc[term]) + k1*(1 - b + b*doc_terms_len/self.DocAvgLen))\n",
    "                tmp_score.append(self.DocIDF[term] * upper / below)\n",
    "            scores.append(sum(tmp_score))\n",
    "        return scores\n",
    "\n",
    "    def TFIDF(self) :\n",
    "        tfidf = []\n",
    "        for doc in self.DocTF :\n",
    "            doc_tfidf  = [(term, tf*self.DocIDF[term]) for term, tf in doc.items()]\n",
    "            doc_tfidf.sort()\n",
    "            tfidf.append(doc_tfidf)\n",
    "        return tfidf\n",
    "\n",
    "    def Items(self) :\n",
    "        # Return a list [(term_idx, term_desc),]\n",
    "        items = self.dictionary.items()\n",
    "        items.sort()\n",
    "        return items\n"
   ]
  },
  {
   "cell_type": "code",
   "execution_count": 52,
   "metadata": {
    "ExecuteTime": {
     "end_time": "2021-04-28T07:34:21.254414Z",
     "start_time": "2021-04-28T07:34:21.251389Z"
    }
   },
   "outputs": [],
   "source": [
    "import numpy as np"
   ]
  },
  {
   "cell_type": "code",
   "execution_count": 53,
   "metadata": {
    "ExecuteTime": {
     "end_time": "2021-04-28T07:34:32.128955Z",
     "start_time": "2021-04-28T07:34:32.124934Z"
    }
   },
   "outputs": [],
   "source": [
    "from rank_bm25 import BM25Okapi\n",
    "\n",
    "corpus = [\n",
    "    \"ac motor\",\n",
    "    \"dc motor\",\n",
    "    \"fan motor fitted with revolving mechanism\",\n",
    "    \"ac motor for household purpose\",\n",
    "    \"ac for industrial use\",\n",
    "    \"where is my order\"\n",
    "]\n",
    "\n",
    "tokenized_corpus = [doc.split(\" \") for doc in corpus]\n",
    "\n",
    "bm25 = BM25Okapi(tokenized_corpus)\n",
    "\n",
    "#query = \"ac motor having fan used in industrial purpose\"\n",
    "query = \"ac motor\"\n",
    "tokenized_query = query.split(\" \")\n",
    "\n",
    "doc_scores = bm25.get_scores(tokenized_query)"
   ]
  },
  {
   "cell_type": "code",
   "execution_count": 54,
   "metadata": {
    "ExecuteTime": {
     "end_time": "2021-04-28T07:34:33.615126Z",
     "start_time": "2021-04-28T07:34:33.611137Z"
    }
   },
   "outputs": [
    {
     "data": {
      "text/plain": [
       "numpy.ndarray"
      ]
     },
     "execution_count": 54,
     "metadata": {},
     "output_type": "execute_result"
    }
   ],
   "source": [
    "type(doc_scores)"
   ]
  },
  {
   "cell_type": "code",
   "execution_count": 55,
   "metadata": {
    "ExecuteTime": {
     "end_time": "2021-04-28T07:34:35.585261Z",
     "start_time": "2021-04-28T07:34:35.582237Z"
    }
   },
   "outputs": [
    {
     "name": "stdout",
     "output_type": "stream",
     "text": [
      "[0.34085801 0.34085801 0.21325778 0.23527675 0.         0.        ]\n"
     ]
    }
   ],
   "source": [
    "print(doc_scores)"
   ]
  },
  {
   "cell_type": "code",
   "execution_count": null,
   "metadata": {
    "ExecuteTime": {
     "end_time": "2021-04-28T07:15:06.734947Z",
     "start_time": "2021-04-28T07:14:08.594Z"
    }
   },
   "outputs": [],
   "source": [
    "from gensim.similarities import docsim\n",
    "DocSim = docsim(verbose=True)\n"
   ]
  },
  {
   "cell_type": "code",
   "execution_count": null,
   "metadata": {},
   "outputs": [],
   "source": []
  }
 ],
 "metadata": {
  "kernelspec": {
   "display_name": "Python 3",
   "language": "python",
   "name": "python3"
  },
  "language_info": {
   "codemirror_mode": {
    "name": "ipython",
    "version": 3
   },
   "file_extension": ".py",
   "mimetype": "text/x-python",
   "name": "python",
   "nbconvert_exporter": "python",
   "pygments_lexer": "ipython3",
   "version": "3.7.0"
  },
  "toc": {
   "base_numbering": 1,
   "nav_menu": {},
   "number_sections": true,
   "sideBar": true,
   "skip_h1_title": false,
   "title_cell": "Table of Contents",
   "title_sidebar": "Contents",
   "toc_cell": false,
   "toc_position": {},
   "toc_section_display": true,
   "toc_window_display": false
  }
 },
 "nbformat": 4,
 "nbformat_minor": 2
}
